{
 "cells": [
  {
   "cell_type": "markdown",
   "id": "bc97d6da",
   "metadata": {
    "id": "bc97d6da"
   },
   "source": [
    "## CS 6120: Natural Language Processing - Prof. Ahmad Uzair\n",
    "\n",
    "### Assignment 1: Naive Bayes\n",
    "### Total Points: 100 points\n",
    "\n",
    "You will be dealing with movie review data that includes both positive and negative reviews in this assignment. You will use Sentiment Analysis to assess if a given review is positive or negative using the provided dataset.\n",
    "\n",
    "Therefore, we will make use of Naive Bayes algorithm to perform sentiment analysis on the movie review dataset.\n",
    "\n",
    "## Importing the Libraries"
   ]
  },
  {
   "cell_type": "code",
   "execution_count": 1,
   "id": "a03450ac",
   "metadata": {
    "id": "a03450ac"
   },
   "outputs": [],
   "source": [
    "import numpy as np\n",
    "import math\n",
    "import pandas as pd\n",
    "import re\n",
    "import nltk\n",
    "from nltk.corpus import stopwords\n",
    "from nltk.stem import PorterStemmer\n",
    "from nltk.tokenize import word_tokenize\n",
    "import warnings\n",
    "import seaborn as sns\n",
    "import matplotlib.pyplot as plt\n",
    "warnings.filterwarnings(\"ignore\")"
   ]
  },
  {
   "cell_type": "markdown",
   "id": "fc584cc2",
   "metadata": {
    "id": "fc584cc2"
   },
   "source": [
    "## Reading the data\n",
    "\n",
    "When reading the data, ensure that the '.csv' file is in the same location where your jupyter notebook is used. This way the files are organized and easy to read using the pandas library. "
   ]
  },
  {
   "cell_type": "code",
   "execution_count": 2,
   "id": "3c9ffbf5",
   "metadata": {
    "id": "3c9ffbf5"
   },
   "outputs": [],
   "source": [
    "## Reading the data and removing columns that are not important. \n",
    "df = pd.read_csv(\"movie_reviews.csv\", sep = ',', encoding = 'latin-1', usecols = lambda col: col not in [\"Unnamed: 2\", \"Unnamed: 3\", \"Unnamed: 4\"])"
   ]
  },
  {
   "cell_type": "code",
   "execution_count": 3,
   "id": "f7fa8ac0",
   "metadata": {
    "colab": {
     "base_uri": "https://localhost:8080/",
     "height": 206
    },
    "id": "f7fa8ac0",
    "outputId": "69edaf28-1e2e-4ec7-9530-b30a2853ab9e"
   },
   "outputs": [
    {
     "data": {
      "text/html": [
       "<div>\n",
       "<style scoped>\n",
       "    .dataframe tbody tr th:only-of-type {\n",
       "        vertical-align: middle;\n",
       "    }\n",
       "\n",
       "    .dataframe tbody tr th {\n",
       "        vertical-align: top;\n",
       "    }\n",
       "\n",
       "    .dataframe thead th {\n",
       "        text-align: right;\n",
       "    }\n",
       "</style>\n",
       "<table border=\"1\" class=\"dataframe\">\n",
       "  <thead>\n",
       "    <tr style=\"text-align: right;\">\n",
       "      <th></th>\n",
       "      <th>review</th>\n",
       "      <th>sentiment</th>\n",
       "    </tr>\n",
       "  </thead>\n",
       "  <tbody>\n",
       "    <tr>\n",
       "      <th>0</th>\n",
       "      <td>One of the other reviewers has mentioned that ...</td>\n",
       "      <td>positive</td>\n",
       "    </tr>\n",
       "    <tr>\n",
       "      <th>1</th>\n",
       "      <td>A wonderful little production. &lt;br /&gt;&lt;br /&gt;The...</td>\n",
       "      <td>positive</td>\n",
       "    </tr>\n",
       "    <tr>\n",
       "      <th>2</th>\n",
       "      <td>I thought this was a wonderful way to spend ti...</td>\n",
       "      <td>positive</td>\n",
       "    </tr>\n",
       "    <tr>\n",
       "      <th>3</th>\n",
       "      <td>Petter Mattei's \"Love in the Time of Money\" is...</td>\n",
       "      <td>positive</td>\n",
       "    </tr>\n",
       "    <tr>\n",
       "      <th>4</th>\n",
       "      <td>Probably my all-time favorite movie, a story o...</td>\n",
       "      <td>positive</td>\n",
       "    </tr>\n",
       "  </tbody>\n",
       "</table>\n",
       "</div>"
      ],
      "text/plain": [
       "                                              review sentiment\n",
       "0  One of the other reviewers has mentioned that ...  positive\n",
       "1  A wonderful little production. <br /><br />The...  positive\n",
       "2  I thought this was a wonderful way to spend ti...  positive\n",
       "3  Petter Mattei's \"Love in the Time of Money\" is...  positive\n",
       "4  Probably my all-time favorite movie, a story o...  positive"
      ]
     },
     "execution_count": 3,
     "metadata": {},
     "output_type": "execute_result"
    }
   ],
   "source": [
    "#Display the head of the dataframe\n",
    "df.head()"
   ]
  },
  {
   "cell_type": "markdown",
   "id": "1749da04",
   "metadata": {
    "id": "1749da04"
   },
   "source": [
    "## Count plot of the output categories: positive or negative\n",
    "\n",
    "Feel free to take a look at the output and whether the classes are balanced or imbalanced. "
   ]
  },
  {
   "cell_type": "code",
   "execution_count": 4,
   "id": "c152e8a4",
   "metadata": {
    "colab": {
     "base_uri": "https://localhost:8080/",
     "height": 515
    },
    "id": "c152e8a4",
    "outputId": "a2ba0476-3238-4511-fcf0-780508493f48"
   },
   "outputs": [
    {
     "data": {
      "image/png": "[encoded data removed]",
      "text/plain": [
       "<Figure size 864x864 with 1 Axes>"
      ]
     },
     "metadata": {
      "needs_background": "light"
     },
     "output_type": "display_data"
    }
   ],
   "source": [
    "plt.figure(figsize = (12,12))\n",
    "sns.countplot(data = df, x=\"sentiment\")\n",
    "plt.title(\"Positive Vs. Negative reviews count\", fontsize = 15)\n",
    "plt.show()\n"
   ]
  },
  {
   "cell_type": "markdown",
   "id": "9b8549f2",
   "metadata": {
    "id": "9b8549f2"
   },
   "source": [
    "## Upsampling the minority class: (5 points)\n",
    "\n",
    "It is known that Naive bayes is not robust to class imbalance. It could be seen above that the data is little imbalanced. Therefore, class balancing can be done before giving it to the Naive Bayes model for prediction. \n",
    "\n",
    "Feel free to use 'resample' library from sklearn. "
   ]
  },
  {
   "cell_type": "code",
   "execution_count": 5,
   "id": "yHJTAqrW7XMN",
   "metadata": {
    "id": "yHJTAqrW7XMN"
   },
   "outputs": [],
   "source": [
    "## hint: use resample from sklearn.utils\n",
    "from sklearn.utils import resample\n",
    "\n",
    "df_majority = df.loc[df[\"sentiment\"] == \"positive\"]\n",
    "df_minority = df.loc[df[\"sentiment\"] == \"negative\"]\n",
    "\n",
    "negative_upsample = resample(df_minority, replace = True, \n",
    "                        n_samples = df_majority.shape[0],\n",
    "                        random_state = 101)\n",
    "\n",
    "df_upsampled = pd.concat([df_majority, negative_upsample])  # concat two data frames i,e majority class data set and upsampled minority class data set\n",
    "df_upsampled = df_upsampled.sample(frac = 1)"
   ]
  },
  {
   "cell_type": "code",
   "execution_count": 6,
   "id": "6a9329bb",
   "metadata": {
    "id": "6a9329bb"
   },
   "outputs": [
    {
     "data": {
      "text/plain": [
       "(12474, 2)"
      ]
     },
     "execution_count": 6,
     "metadata": {},
     "output_type": "execute_result"
    }
   ],
   "source": [
    "## Just to ensure that upsampling was done successfully, take a look at the shape of the data in \n",
    "## this cell. \n",
    "\n",
    "# print the shape of data set with the help of shape function having \"negative\" as class label\n",
    "df_upsampled.loc[df_upsampled[\"sentiment\"] == \"negative\"].shape"
   ]
  },
  {
   "cell_type": "markdown",
   "id": "6f8bf6e7",
   "metadata": {
    "id": "6f8bf6e7"
   },
   "source": [
    "### Expected Output : \n",
    "(12474, 2)"
   ]
  },
  {
   "cell_type": "code",
   "execution_count": 7,
   "id": "bdea8155",
   "metadata": {
    "colab": {
     "base_uri": "https://localhost:8080/"
    },
    "id": "bdea8155",
    "outputId": "c665c4b9-826e-4f4e-e30e-06e0935a0622"
   },
   "outputs": [
    {
     "data": {
      "text/plain": [
       "(12474, 2)"
      ]
     },
     "execution_count": 7,
     "metadata": {},
     "output_type": "execute_result"
    }
   ],
   "source": [
    "## Ensure that the same number of data points are present for both 'positive' and 'negative' data\n",
    "\n",
    "# print the shape of data set with the help of shape function having \"positive\" as class label\n",
    "df_upsampled.loc[df_upsampled[\"sentiment\"] == \"positive\"].shape"
   ]
  },
  {
   "cell_type": "markdown",
   "id": "626f01d5",
   "metadata": {
    "id": "626f01d5"
   },
   "source": [
    "### Expected Output : \n",
    "(12474, 2)"
   ]
  },
  {
   "cell_type": "code",
   "execution_count": 8,
   "id": "NoW5z6SzAeP8",
   "metadata": {
    "id": "NoW5z6SzAeP8"
   },
   "outputs": [],
   "source": [
    "## In this cell, we are going to be dividing the data into train and test points\n",
    "## Ensure that you store the upsampled data in a variable called 'df_upsampled' \n",
    "## so that the below operations are performed successfully\n",
    "\n",
    "\n",
    "## Considering 10000 positive and 10000 negative data points\n",
    "negative_data_points_train = df_upsampled.loc[df_upsampled[\"sentiment\"] == \"negative\"].iloc[:10000]\n",
    "positive_data_points_train = df_upsampled.loc[df_upsampled[\"sentiment\"] == \"positive\"].iloc[:10000]\n",
    "\n",
    "## Considering the remaining data points for test\n",
    "negative_data_points_test = df_upsampled.loc[df_upsampled[\"sentiment\"] == \"negative\"].iloc[10000:]\n",
    "positive_data_points_test = df_upsampled.loc[df_upsampled[\"sentiment\"] == \"positive\"].iloc[10000:]\n",
    "\n",
    "## Concatenate the training positive and negative reviews\n",
    "X_train = pd.concat([positive_data_points_train.review, negative_data_points_train.review])\n",
    "## Concatenating the training positive and negative outputs\n",
    "y_train = pd.concat([positive_data_points_train.sentiment, negative_data_points_train.sentiment])\n",
    "\n",
    "## Concatenating the test positive and negative reviews\n",
    "X_test = pd.concat([positive_data_points_test.review, negative_data_points_test.review])\n",
    "## Concatenating the test positive and negative outputs\n",
    "y_test = pd.concat([positive_data_points_test.sentiment, negative_data_points_test.sentiment])\n"
   ]
  },
  {
   "cell_type": "code",
   "execution_count": 9,
   "id": "6428047d",
   "metadata": {
    "colab": {
     "base_uri": "https://localhost:8080/"
    },
    "id": "6428047d",
    "outputId": "10d10601-0ce0-4688-c4d3-75fa386583fd"
   },
   "outputs": [
    {
     "data": {
      "text/plain": [
       "positive    10000\n",
       "negative    10000\n",
       "Name: sentiment, dtype: int64"
      ]
     },
     "execution_count": 9,
     "metadata": {},
     "output_type": "execute_result"
    }
   ],
   "source": [
    "## Take a look at the total number of classes and their count using '.value_counts()' for y_train and y_test.\n",
    "## Ensure that there are equal number of positive and negative reviews. \n",
    "y_train.value_counts()"
   ]
  },
  {
   "cell_type": "markdown",
   "id": "7dfe6517",
   "metadata": {
    "id": "7dfe6517"
   },
   "source": [
    "### Expected Output:\n",
    "negative    10000<br>\n",
    "positive    10000<br>\n",
    "Name: sentiment, dtype: int64"
   ]
  },
  {
   "cell_type": "code",
   "execution_count": 10,
   "id": "2beae1d6",
   "metadata": {
    "colab": {
     "base_uri": "https://localhost:8080/"
    },
    "id": "2beae1d6",
    "outputId": "6896f930-6a1a-45db-b74c-d080c9aedd0c"
   },
   "outputs": [
    {
     "data": {
      "text/plain": [
       "positive    2474\n",
       "negative    2474\n",
       "Name: sentiment, dtype: int64"
      ]
     },
     "execution_count": 10,
     "metadata": {},
     "output_type": "execute_result"
    }
   ],
   "source": [
    "y_test.value_counts()"
   ]
  },
  {
   "cell_type": "markdown",
   "id": "9163f897",
   "metadata": {
    "id": "9163f897"
   },
   "source": [
    "### Expected Output : \n",
    "negative    2474<br>\n",
    "positive    2474<br>\n",
    "Name: sentiment, dtype: int64"
   ]
  },
  {
   "cell_type": "markdown",
   "id": "6501699b",
   "metadata": {
    "id": "6501699b"
   },
   "source": [
    "## Q1. Pre-process the reviews: (10 points)\n",
    "\n",
    "We know that a review contains links, punctuation, stopwords and many other words that don't give a lot of meaning for the Naive Bayes model for prediction. \n",
    "\n",
    "In the cell below, one must implement text-preprocessing and remove links, punctuations and stopwords. It is also important to lowercase the letters so that 'Admire' and 'admire' are not treated as different words. \n",
    "\n",
    "In addition to this, perform stemming operation so that similar words are reduced. To know more about stemming, feel free to take a look at this link.\n",
    "\n",
    "https://nlp.stanford.edu/IR-book/html/htmledition/stemming-and-lemmatization-1.html"
   ]
  },
  {
   "cell_type": "code",
   "execution_count": 11,
   "id": "CirLN9-ddQ1r",
   "metadata": {
    "id": "CirLN9-ddQ1r"
   },
   "outputs": [
    {
     "name": "stderr",
     "output_type": "stream",
     "text": [
      "[nltk_data] Downloading package stopwords to\n",
      "[nltk_data]     C:\\Users\\samee\\AppData\\Roaming\\nltk_data...\n",
      "[nltk_data]   Package stopwords is already up-to-date!\n",
      "[nltk_data] Downloading package punkt to\n",
      "[nltk_data]     C:\\Users\\samee\\AppData\\Roaming\\nltk_data...\n",
      "[nltk_data]   Package punkt is already up-to-date!\n",
      "[nltk_data] Downloading package wordnet to\n",
      "[nltk_data]     C:\\Users\\samee\\AppData\\Roaming\\nltk_data...\n",
      "[nltk_data]   Package wordnet is already up-to-date!\n",
      "[nltk_data] Downloading package omw-1.4 to\n",
      "[nltk_data]     C:\\Users\\samee\\AppData\\Roaming\\nltk_data...\n",
      "[nltk_data]   Package omw-1.4 is already up-to-date!\n"
     ]
    }
   ],
   "source": [
    "# TASK CELL\n",
    "nltk.download(\"stopwords\")\n",
    "nltk.download(\"punkt\")\n",
    "nltk.download('wordnet')\n",
    "nltk.download('omw-1.4')\n",
    "from nltk.stem import WordNetLemmatizer\n",
    "\n",
    "def clean_review(review):\n",
    "    '''\n",
    "    Input:\n",
    "        review: a string containing a review.\n",
    "    Output:\n",
    "        review_cleaned: a processed review. \n",
    "\n",
    "    '''\n",
    "    review_process = review\n",
    "    review_process = re.sub(r\"\\S*https?://\\S+\", \"\", review_process) #Remove links containing http or https\n",
    "    review_process = re.sub(r\"[^\\w\\s]\", \"\", review_process) #Remove Punctuation Marks\n",
    "    review_process = review_process.lower()\n",
    "\n",
    "    #Tokenize text and remove stop words\n",
    "    token_lowercase = word_tokenize(review_process)\n",
    "    stop_words = stopwords.words('english')\n",
    "    token_final=[]\n",
    "    for i in token_lowercase:\n",
    "        if i in stop_words:\n",
    "            continue\n",
    "        token_final.append(i)\n",
    "    \n",
    "    #Perform Stemming\n",
    "    #review_cleaned_1 = []\n",
    "    #for i in token_final:\n",
    "    #    review_cleaned_1.append(PorterStemmer().stem(i))\n",
    "\n",
    "    #Perform Lemmatization\n",
    "    review_cleaned = []\n",
    "    for i in token_final:\n",
    "        temp = WordNetLemmatizer().lemmatize(i)\n",
    "        review_cleaned.append(temp)\n",
    "    \n",
    "\n",
    "\n",
    "    return review_cleaned"
   ]
  },
  {
   "cell_type": "markdown",
   "id": "a7632fe5",
   "metadata": {
    "id": "a7632fe5"
   },
   "source": [
    "## Q2. Implement a find_occurrence function (5 points):\n",
    "\n",
    "In this function, we find the total occurrence of a word giving information such as label, word and frequency dictionary.\n",
    "\n",
    "Note that this function is used later in the code when we are going to be predicting the output using Naive Bayes. "
   ]
  },
  {
   "cell_type": "code",
   "execution_count": 12,
   "id": "eb282b81",
   "metadata": {
    "id": "eb282b81"
   },
   "outputs": [],
   "source": [
    "# TASK CELL\n",
    "def find_occurrence(frequency, word, label):\n",
    "    '''\n",
    "    Params:\n",
    "        frequency: a dictionary with the frequency of each pair (or tuple)\n",
    "        word: the word to look up\n",
    "        label: the label corresponding to the word\n",
    "    Return:\n",
    "        n: the number of times the word with its corresponding label appears.\n",
    "    '''\n",
    "    if (word, label) in frequency.keys():\n",
    "        n=frequency[(word, label)]\n",
    "  \n",
    "    return n"
   ]
  },
  {
   "cell_type": "markdown",
   "id": "29a2249d",
   "metadata": {
    "id": "29a2249d"
   },
   "source": [
    "### Converting output to numerical format:\n",
    "\n",
    "We have outputs as 'positive' or 'negative'. In the cell below, we convert it to a numerical format. "
   ]
  },
  {
   "cell_type": "code",
   "execution_count": 13,
   "id": "bcdc2b2c",
   "metadata": {
    "id": "bcdc2b2c"
   },
   "outputs": [],
   "source": [
    "## With the use of mapping function, we replace\n",
    "## the label in the form of string to an integer. \n",
    "\n",
    "output_map = {'positive': 0, 'negative': 1}\n",
    "y_train = y_train.map(output_map)\n",
    "y_test = y_test.map(output_map)"
   ]
  },
  {
   "cell_type": "code",
   "execution_count": 14,
   "id": "3dde0bbd",
   "metadata": {
    "colab": {
     "base_uri": "https://localhost:8080/"
    },
    "id": "3dde0bbd",
    "outputId": "223dfbc1-8efe-4183-b6d7-c9cb025cb285"
   },
   "outputs": [
    {
     "data": {
      "text/plain": [
       "0    10000\n",
       "1    10000\n",
       "Name: sentiment, dtype: int64"
      ]
     },
     "execution_count": 14,
     "metadata": {},
     "output_type": "execute_result"
    }
   ],
   "source": [
    "## Ensuring that there are equal number of classes on the training data. \n",
    "y_train.value_counts()"
   ]
  },
  {
   "cell_type": "code",
   "execution_count": 15,
   "id": "f2959b85",
   "metadata": {
    "colab": {
     "base_uri": "https://localhost:8080/",
     "height": 178
    },
    "id": "f2959b85",
    "outputId": "e514214b-cd57-43fc-875d-1821ddab63f8"
   },
   "outputs": [
    {
     "data": {
      "text/plain": [
       "\"I now that these days, some people wan't see a movie without movie styling, so much Dogma, Lars Von, Watchosky Brothers, are changed what we expect in a movie, perhaps, Casomai is no-one-more-Independent-non-american movie, the movie take all movies resources and language to tell us a simple history about love and marriage, but much more .. Fully of views, lectures and let you thinking ... and I'm sure, you can't fell boried any second of a long 116 minutes. I calculate that don't have a single scene longer that 3 o 2 1/2 minutes.\""
      ]
     },
     "execution_count": 15,
     "metadata": {},
     "output_type": "execute_result"
    }
   ],
   "source": [
    "## Choosing a random review and taking a look at it.\n",
    "X_train.iloc[0]"
   ]
  },
  {
   "cell_type": "markdown",
   "id": "ed5e43c9",
   "metadata": {
    "id": "ed5e43c9"
   },
   "source": [
    "From the above cell output, it could be seen that there are a lot of words that don't add a lot of meaning to the text. \n",
    "\n",
    "Therefore, those words would be removed. It also reduces the computation time. \n",
    "\n",
    "Therefore, it is a good practice we are following."
   ]
  },
  {
   "cell_type": "code",
   "execution_count": 16,
   "id": "ad3937ea",
   "metadata": {
    "colab": {
     "base_uri": "https://localhost:8080/"
    },
    "id": "ad3937ea",
    "outputId": "68985efe-32cd-4c11-ed5b-2e1e1b297e73"
   },
   "outputs": [
    {
     "name": "stdout",
     "output_type": "stream",
     "text": [
      "['day', 'people', 'want', 'see', 'movie', 'without', 'movie', 'styling', 'much', 'dogma', 'lars', 'von', 'watchosky', 'brother', 'changed', 'expect', 'movie', 'perhaps', 'casomai', 'noonemoreindependentnonamerican', 'movie', 'movie', 'take', 'movie', 'resource', 'language', 'tell', 'u', 'simple', 'history', 'love', 'marriage', 'much', 'fully', 'view', 'lecture', 'let', 'thinking', 'im', 'sure', 'cant', 'fell', 'boried', 'second', 'long', '116', 'minute', 'calculate', 'dont', 'single', 'scene', 'longer', '3', '2', '12', 'minute']\n"
     ]
    }
   ],
   "source": [
    "custom_review = X_train.iloc[0]\n",
    "\n",
    "# print cleaned review\n",
    "print(clean_review(custom_review))"
   ]
  },
  {
   "cell_type": "markdown",
   "id": "3e6cc440",
   "metadata": {
    "id": "3e6cc440"
   },
   "source": [
    "We now use this function to pre-process the review and remove words that don't add a lot of meaning in our model. "
   ]
  },
  {
   "cell_type": "markdown",
   "id": "5a762960",
   "metadata": {
    "id": "5a762960"
   },
   "source": [
    "## Q3. Implementing review counter function: (5 points)\n",
    "\n",
    "It is now time to implement the count function for the reviews. \n",
    "\n",
    "In this function, we count the occurrence of words and get the probabilities \n",
    "for the words based on the training data. \n",
    "\n",
    "In other words, we get the probability of occurrence of a word, given that the output is 'positive'.\n",
    "\n",
    "Similarly, we also compute the probability of occurence of a word, given that the output is 'negative'.\n",
    "\n"
   ]
  },
  {
   "cell_type": "code",
   "execution_count": 17,
   "id": "5de61f77",
   "metadata": {
    "id": "5de61f77"
   },
   "outputs": [],
   "source": [
    "# TASK CELL\n",
    "def review_counter(output_occurrence, reviews, positive_or_negative):\n",
    "    '''\n",
    "    Params:\n",
    "        output_occurrence: a dictionary that will be used to map each pair to its frequency\n",
    "        reviews: a list of reviews\n",
    "        positive_or_negative: a list corresponding to the sentiment of each review (either 0 or 1)\n",
    "    Return:\n",
    "        output: a dictionary mapping each pair to its frequency\n",
    "    '''\n",
    "    ## Steps :\n",
    "    # define the key, which is the word and label tuple\n",
    "    # if the key exists in the dictionary, increment the count\n",
    "    # else, if the key is new, add it to the dictionary and set the count to 1\n",
    "    \n",
    "    for label, review in zip(positive_or_negative, reviews):\n",
    "        split_review = clean_review(review)\n",
    "        for word in split_review:\n",
    "        # Your code here\n",
    "            if (word, label) in output_occurrence.keys():\n",
    "                output_occurrence[(word, label)] += 1\n",
    "            else:\n",
    "                output_occurrence[(word, label)] = 1\n",
    "   \n",
    "    return output_occurrence\n",
    "   \n"
   ]
  },
  {
   "cell_type": "markdown",
   "id": "18238223",
   "metadata": {
    "id": "18238223"
   },
   "source": [
    "### Test your function with example reviews:\n",
    "\n",
    "Feel free to run the cell below and understand whether the above function that you have defined is producing the optimum results. "
   ]
  },
  {
   "cell_type": "code",
   "execution_count": 18,
   "id": "07a4c58a",
   "metadata": {
    "colab": {
     "base_uri": "https://localhost:8080/"
    },
    "id": "07a4c58a",
    "outputId": "dd9e148a-34a9-4cfe-9077-c5de33493d7a"
   },
   "outputs": [
    {
     "data": {
      "text/plain": [
       "{('got', 1): 1,\n",
       " ('bored', 1): 2,\n",
       " ('throught', 1): 1,\n",
       " ('moview', 1): 1,\n",
       " ('movie', 0): 2,\n",
       " ('fantastic', 0): 1,\n",
       " ('watch', 1): 1,\n",
       " ('complete', 1): 1,\n",
       " ('waste', 1): 1,\n",
       " ('time', 1): 1,\n",
       " ('money', 1): 1,\n",
       " ('enjoyed', 0): 1,\n",
       " ('fullest', 0): 1}"
      ]
     },
     "execution_count": 18,
     "metadata": {},
     "output_type": "execute_result"
    }
   ],
   "source": [
    "# Testing your function\n",
    "\n",
    "result = {}\n",
    "reviews = ['got bored throught the moview', 'The movie was fantastic', 'Will not watch it again', 'Was bored, it was a complete waste of time and money', 'Enjoyed the movie to the fullest']\n",
    "ys = [1, 0, 1, 1, 0]\n",
    "review_counter(result,reviews, ys)"
   ]
  },
  {
   "cell_type": "markdown",
   "id": "927f89bb",
   "metadata": {
    "id": "927f89bb"
   },
   "source": [
    "### Expected Output:\n",
    " {('bored', 1): 2, <br>\n",
    " ('complete', 1): 1, <br>\n",
    " ('enjoyed', 0): 1, <br>\n",
    " ('fantastic', 0): 1, <br>\n",
    " ('fullest', 0): 1, <br>\n",
    " ('got', 1): 1, <br>\n",
    " ('money', 1): 1, <br>\n",
    " ('movie', 0): 2, <br>\n",
    " ('moview', 1): 1, <br>\n",
    " ('throught', 1): 1, <br>\n",
    " ('time', 1): 1, <br>\n",
    " ('waste', 1): 1, <br>\n",
    " ('watch', 1): 1}"
   ]
  },
  {
   "cell_type": "code",
   "execution_count": 19,
   "id": "9bc62e13",
   "metadata": {
    "id": "9bc62e13"
   },
   "outputs": [],
   "source": [
    "# Build the freqs dictionary for later uses\n",
    "\n",
    "freqs = review_counter({}, X_train, y_train)"
   ]
  },
  {
   "cell_type": "code",
   "execution_count": 20,
   "id": "0eddf420",
   "metadata": {
    "id": "0eddf420"
   },
   "outputs": [
    {
     "data": {
      "text/plain": [
       "{('day', 0): 1609,\n",
       " ('people', 0): 3439,\n",
       " ('want', 0): 1699,\n",
       " ('see', 0): 4960,\n",
       " ('movie', 0): 17287,\n",
       " ('without', 0): 1304,\n",
       " ('styling', 0): 7,\n",
       " ('much', 0): 3702,\n",
       " ('dogma', 0): 14,\n",
       " ('lars', 0): 10,\n",
       " ('von', 0): 97,\n",
       " ('watchosky', 0): 1,\n",
       " ('brother', 0): 639,\n",
       " ('changed', 0): 198,\n",
       " ('expect', 0): 417,\n",
       " ('perhaps', 0): 646,\n",
       " ('casomai', 0): 2,\n",
       " ('noonemoreindependentnonamerican', 0): 1,\n",
       " ('take', 0): 2335,\n",
       " ('resource', 0): 35,\n",
       " ('language', 0): 263,\n",
       " ('tell', 0): 991,\n",
       " ('u', 0): 1894,\n",
       " ('simple', 0): 564,\n",
       " ('history', 0): 613,\n",
       " ('love', 0): 3513,\n",
       " ('marriage', 0): 191,\n",
       " ('fully', 0): 206,\n",
       " ('view', 0): 514,\n",
       " ('lecture', 0): 14,\n",
       " ('let', 0): 897,\n",
       " ('thinking', 0): 346,\n",
       " ('im', 0): 1496,\n",
       " ('sure', 0): 969,\n",
       " ('cant', 0): 1188,\n",
       " ('fell', 0): 109,\n",
       " ('boried', 0): 1,\n",
       " ('second', 0): 836,\n",
       " ('long', 0): 1245,\n",
       " ('116', 0): 3,\n",
       " ('minute', 0): 860,\n",
       " ('calculate', 0): 4,\n",
       " ('dont', 0): 2680,\n",
       " ('single', 0): 301,\n",
       " ('scene', 0): 3890,\n",
       " ('longer', 0): 213,\n",
       " ('3', 0): 396,\n",
       " ('2', 0): 629,\n",
       " ('12', 0): 171,\n",
       " ('strange', 0): 343,\n",
       " ('little', 0): 2604,\n",
       " ('forgotten', 0): 148,\n",
       " ('late', 0): 529,\n",
       " ('eighty', 0): 60,\n",
       " ('one', 0): 10882,\n",
       " ('largecast', 0): 1,\n",
       " ('kitchen', 0): 42,\n",
       " ('sink', 0): 39,\n",
       " ('delivers', 0): 180,\n",
       " ('good', 0): 5838,\n",
       " ('gag', 0): 162,\n",
       " ('like', 0): 7049,\n",
       " ('give', 0): 2001,\n",
       " ('shot', 0): 1008,\n",
       " ('loved', 0): 895,\n",
       " ('respect', 0): 222,\n",
       " ('midget', 0): 8,\n",
       " ('dressed', 0): 92,\n",
       " ('tiny', 0): 101,\n",
       " ('martian', 0): 25,\n",
       " ('story', 0): 5443,\n",
       " ('may', 0): 1552,\n",
       " ('thin', 0): 59,\n",
       " ('time', 0): 6026,\n",
       " ('away', 0): 1002,\n",
       " ('way', 0): 3387,\n",
       " ('done', 0): 1224,\n",
       " ('used', 0): 776,\n",
       " ('watch', 0): 2615,\n",
       " ('8', 0): 245,\n",
       " ('kid', 0): 1057,\n",
       " ('besides', 0): 148,\n",
       " ('greatest', 0): 404,\n",
       " ('quote', 0): 100,\n",
       " ('ever', 0): 2081,\n",
       " ('blanzees', 0): 1,\n",
       " ('home', 0): 824,\n",
       " ('range', 0): 133,\n",
       " ('rendition', 0): 80,\n",
       " ('awesome', 0): 261,\n",
       " ('br', 0): 22491,\n",
       " ('well', 0): 4557,\n",
       " ('ask', 0): 186,\n",
       " ('10', 0): 771,\n",
       " ('recently', 0): 298,\n",
       " ('started', 0): 335,\n",
       " ('show', 0): 3800,\n",
       " ('syndication', 0): 6,\n",
       " ('find', 0): 2183,\n",
       " ('bit', 0): 1454,\n",
       " ('hit', 0): 507,\n",
       " ('miss', 0): 438,\n",
       " ('episode', 0): 1113,\n",
       " ('silly', 0): 200,\n",
       " ('doug', 0): 43,\n",
       " ('upset', 0): 55,\n",
       " ('trivialjuvenile', 0): 1,\n",
       " ('thing', 0): 2705,\n",
       " ('act', 0): 566,\n",
       " ('stupid', 0): 197,\n",
       " ('etcbr', 0): 40,\n",
       " ('still', 0): 2608,\n",
       " ('others', 0): 708,\n",
       " ('quite', 0): 1639,\n",
       " ('amusing', 0): 176,\n",
       " ('sometimes', 0): 584,\n",
       " ('touching', 0): 269,\n",
       " ('include', 0): 142,\n",
       " ('face', 0): 744,\n",
       " ('complexity', 0): 59,\n",
       " ('character', 0): 5451,\n",
       " ('instance', 0): 109,\n",
       " ('juvenile', 0): 35,\n",
       " ('overweight', 0): 11,\n",
       " ('amiable', 0): 15,\n",
       " ('guy', 0): 1370,\n",
       " ('marries', 0): 36,\n",
       " ('sexy', 0): 185,\n",
       " ('wife', 0): 895,\n",
       " ('theme', 0): 560,\n",
       " ('found', 0): 1007,\n",
       " ('several', 0): 628,\n",
       " ('sitcom', 0): 94,\n",
       " ('carrie', 0): 53,\n",
       " ('also', 0): 4228,\n",
       " ('something', 0): 1645,\n",
       " ('lookswise', 0): 1,\n",
       " ('run', 0): 602,\n",
       " ('mill', 0): 54,\n",
       " ('girl', 0): 1363,\n",
       " ('edge', 0): 230,\n",
       " ('might', 0): 989,\n",
       " ('nice', 0): 844,\n",
       " ('eye', 0): 835,\n",
       " ('many', 0): 3007,\n",
       " ('personality', 0): 217,\n",
       " ('trait', 0): 43,\n",
       " ('far', 0): 994,\n",
       " ('different', 0): 1186,\n",
       " ('fatherbr', 0): 15,\n",
       " ('readily', 0): 23,\n",
       " ('admits', 0): 22,\n",
       " ('revolves', 0): 68,\n",
       " ('lack', 0): 405,\n",
       " ('desire', 0): 190,\n",
       " ('coworkers', 0): 17,\n",
       " ('personally', 0): 215,\n",
       " ('bness', 0): 1,\n",
       " ('right', 0): 1361,\n",
       " ('sort', 0): 525,\n",
       " ('person', 0): 653,\n",
       " ('able', 0): 596,\n",
       " ('live', 0): 696,\n",
       " ('match', 0): 292,\n",
       " ('deep', 0): 327,\n",
       " ('maybe', 0): 762,\n",
       " ('whose', 0): 467,\n",
       " ('nirvana', 0): 6,\n",
       " ('watching', 0): 1528,\n",
       " ('tv', 0): 1120,\n",
       " ('eating', 0): 81,\n",
       " ('big', 0): 1392,\n",
       " ('snack', 0): 6,\n",
       " ('next', 0): 645,\n",
       " ('screen', 0): 984,\n",
       " ('culture', 0): 259,\n",
       " ('gal', 0): 41,\n",
       " ('overally', 0): 2,\n",
       " ('sensitive', 0): 107,\n",
       " ('side', 0): 604,\n",
       " ('reason', 0): 796,\n",
       " ('two', 0): 2785,\n",
       " ('child', 0): 1053,\n",
       " ('course', 0): 1102,\n",
       " ('pleasure', 0): 186,\n",
       " ('nothing', 0): 992,\n",
       " ('sneer', 0): 4,\n",
       " ('either', 0): 498,\n",
       " ('add', 0): 479,\n",
       " ('charm', 0): 196,\n",
       " ('ordinary', 0): 152,\n",
       " ('working', 0): 339,\n",
       " ('class', 0): 339,\n",
       " ('life', 0): 3578,\n",
       " ('queen', 0): 148,\n",
       " ('realistic', 0): 425,\n",
       " ('sense', 0): 784,\n",
       " ('overall', 0): 615,\n",
       " ('pleasant', 0): 115,\n",
       " ('fare', 0): 80,\n",
       " ('esp', 0): 12,\n",
       " ('relax', 0): 47,\n",
       " ('get', 0): 4445,\n",
       " ('tired', 0): 122,\n",
       " ('end', 0): 2398,\n",
       " ('probably', 0): 1084,\n",
       " ('ending', 0): 945,\n",
       " ('becker', 0): 6,\n",
       " ('original', 0): 1090,\n",
       " ('barbara', 0): 138,\n",
       " ('stanwyk', 0): 1,\n",
       " ('saved', 0): 73,\n",
       " ('stanwyks', 0): 1,\n",
       " ('performance', 0): 2330,\n",
       " ('sickeningly', 0): 3,\n",
       " ('sweet', 0): 295,\n",
       " ('film', 0): 19076,\n",
       " ('dated', 0): 128,\n",
       " ('really', 0): 4263,\n",
       " ('enjoyed', 0): 687,\n",
       " ('today', 0): 733,\n",
       " ('bette', 0): 72,\n",
       " ('midlers', 0): 4,\n",
       " ('version', 0): 920,\n",
       " ('interesting', 0): 1202,\n",
       " ('stella', 0): 21,\n",
       " ('claire', 0): 43,\n",
       " ('independent', 0): 142,\n",
       " ('freespirited', 0): 6,\n",
       " ('woman', 0): 1704,\n",
       " ('pregnant', 0): 65,\n",
       " ('refuse', 0): 83,\n",
       " ('help', 0): 936,\n",
       " ('boyfriend', 0): 169,\n",
       " ('stephen', 0): 134,\n",
       " ('collins', 0): 30,\n",
       " ('friend', 0): 1392,\n",
       " ('john', 0): 1044,\n",
       " ('goodman', 0): 24,\n",
       " ('underrated', 0): 150,\n",
       " ('raise', 0): 93,\n",
       " ('daughter', 0): 494,\n",
       " ('jenny', 0): 40,\n",
       " ('played', 0): 1233,\n",
       " ('sweetly', 0): 14,\n",
       " ('trini', 0): 3,\n",
       " ('alvarado', 0): 4,\n",
       " ('come', 0): 2229,\n",
       " ('conclusion', 0): 167,\n",
       " ('father', 0): 948,\n",
       " ('better', 0): 1805,\n",
       " ('ultimately', 0): 207,\n",
       " ('make', 0): 4357,\n",
       " ('lifealtering', 0): 2,\n",
       " ('decision', 0): 138,\n",
       " ('plenty', 0): 279,\n",
       " ('laugh', 0): 705,\n",
       " ('tear', 0): 235,\n",
       " ('memorable', 0): 389,\n",
       " ('moment', 0): 1133,\n",
       " ('mostly', 0): 355,\n",
       " ('midler', 0): 21,\n",
       " ('marsha', 0): 4,\n",
       " ('mason', 0): 16,\n",
       " ('costars', 0): 17,\n",
       " ('wouldbe', 0): 22,\n",
       " ('stepmother', 0): 44,\n",
       " ('though', 0): 1829,\n",
       " ('wealthy', 0): 62,\n",
       " ('turn', 0): 988,\n",
       " ('influence', 0): 134,\n",
       " ('emotion', 0): 432,\n",
       " ('youll', 0): 586,\n",
       " ('enjoy', 0): 834,\n",
       " ('christmas', 0): 160,\n",
       " ('nativity', 0): 2,\n",
       " ('term', 0): 267,\n",
       " ('rebirth', 0): 10,\n",
       " ('least', 0): 845,\n",
       " ('hoped', 0): 27,\n",
       " ('regarding', 0): 75,\n",
       " ('italian', 0): 264,\n",
       " ('cinema', 0): 675,\n",
       " ('3040', 0): 4,\n",
       " ('year', 0): 2877,\n",
       " ('didnt', 0): 1354,\n",
       " ('craft', 0): 52,\n",
       " ('art', 0): 633,\n",
       " ('piece', 0): 679,\n",
       " ('size', 0): 37,\n",
       " ('absolute', 0): 127,\n",
       " ('contemporary', 0): 134,\n",
       " ('regarded', 0): 48,\n",
       " ('level', 0): 423,\n",
       " ('quality', 0): 509,\n",
       " ('masterpiece', 0): 386,\n",
       " ('past', 0): 567,\n",
       " ('needle', 0): 59,\n",
       " ('name', 0): 638,\n",
       " ('finally', 0): 666,\n",
       " ('production', 0): 749,\n",
       " ('standard', 0): 259,\n",
       " ('rare', 0): 232,\n",
       " ('balance', 0): 94,\n",
       " ('element', 0): 471,\n",
       " ('understandable', 0): 46,\n",
       " ('enjoyable', 0): 442,\n",
       " ('fruition', 0): 7,\n",
       " ('real', 0): 1914,\n",
       " ('poetry', 0): 60,\n",
       " ('humor', 0): 548,\n",
       " ('tenderness', 0): 25,\n",
       " ('drama', 0): 717,\n",
       " ('beauty', 0): 370,\n",
       " ('rhetoric', 0): 7,\n",
       " ('easy', 0): 371,\n",
       " ('surreal', 0): 130,\n",
       " ('shortcut', 0): 6,\n",
       " ('typical', 0): 374,\n",
       " ('touristic', 0): 1,\n",
       " ('tornatorelike', 0): 1,\n",
       " ('picturing', 0): 2,\n",
       " ('acting', 0): 1889,\n",
       " ('director', 0): 1684,\n",
       " ('autoreferentialism', 0): 1,\n",
       " ('cool', 0): 341,\n",
       " ('use', 0): 690,\n",
       " ('heartbreaking', 0): 57,\n",
       " ('nina', 0): 32,\n",
       " ('simones', 0): 2,\n",
       " ('song', 0): 870,\n",
       " ('music', 0): 1548,\n",
       " ('reckon', 0): 10,\n",
       " ('never', 0): 2457,\n",
       " ('proper', 0): 78,\n",
       " ('score', 0): 561,\n",
       " ('reviveing', 0): 1,\n",
       " ('extraordinary', 0): 132,\n",
       " ('evolution', 0): 25,\n",
       " ('emanuele', 0): 5,\n",
       " ('crialese', 0): 6,\n",
       " ('respiro', 0): 3,\n",
       " ('another', 0): 1614,\n",
       " ('definitive', 0): 35,\n",
       " ('beautiful', 0): 1215,\n",
       " ('nuovomondo', 0): 5,\n",
       " ('missed', 0): 226,\n",
       " ('kind', 0): 1038,\n",
       " ('medicine', 0): 31,\n",
       " ('helpful', 0): 29,\n",
       " ('moviemaking', 0): 24,\n",
       " ('understand', 0): 654,\n",
       " ('francesco', 0): 4,\n",
       " ('cabras', 0): 1,\n",
       " ('huge', 0): 338,\n",
       " ('fan', 0): 1317,\n",
       " ('say', 0): 2279,\n",
       " ('anything', 0): 813,\n",
       " ('jerry', 0): 154,\n",
       " ('maguire', 0): 15,\n",
       " ('almost', 0): 1247,\n",
       " ('famous', 0): 389,\n",
       " ('wasnt', 0): 657,\n",
       " ('safe', 0): 84,\n",
       " ('look', 0): 2118,\n",
       " ('forward', 0): 213,\n",
       " ('cameron', 0): 48,\n",
       " ('crowe', 0): 14,\n",
       " ('attache', 0): 9,\n",
       " ('went', 0): 504,\n",
       " ('vanilla', 0): 17,\n",
       " ('sky', 0): 112,\n",
       " ('told', 0): 506,\n",
       " ('weird', 0): 214,\n",
       " ('wouldnt', 0): 302,\n",
       " ('expecting', 0): 192,\n",
       " ('similar', 0): 373,\n",
       " ('crowes', 0): 8,\n",
       " ('seen', 0): 2648,\n",
       " ('former', 0): 261,\n",
       " ('correct', 0): 83,\n",
       " ('latter', 0): 152,\n",
       " ('couldnt', 0): 373,\n",
       " ('wrong', 0): 522,\n",
       " ('together', 0): 980,\n",
       " ('anyone', 0): 992,\n",
       " ('saw', 0): 1355,\n",
       " ('coming', 0): 452,\n",
       " ('halfway', 0): 52,\n",
       " ('lying', 0): 46,\n",
       " ('unable', 0): 97,\n",
       " ('detach', 0): 4,\n",
       " ('hindsight', 0): 8,\n",
       " ('memory', 0): 297,\n",
       " ('anyway', 0): 315,\n",
       " ('stellar', 0): 50,\n",
       " ('owning', 0): 18,\n",
       " ('soon', 0): 486,\n",
       " ('dvd', 0): 1211,\n",
       " ('released', 0): 491,\n",
       " ('moved', 0): 172,\n",
       " ('felt', 0): 482,\n",
       " ('emotionally', 0): 113,\n",
       " ('spent', 0): 137,\n",
       " ('experience', 0): 659,\n",
       " ('draw', 0): 141,\n",
       " ('viewer', 0): 870,\n",
       " ('entire', 0): 458,\n",
       " ('spectrum', 0): 16,\n",
       " ('human', 0): 889,\n",
       " ('allows', 0): 118,\n",
       " ('himherself', 0): 1,\n",
       " ('plot', 0): 1899,\n",
       " ('theatre', 0): 132,\n",
       " ('clearly', 0): 293,\n",
       " ('lost', 0): 532,\n",
       " ('track', 0): 190,\n",
       " ('bored', 0): 101,\n",
       " ('back', 0): 1889,\n",
       " ('ability', 0): 240,\n",
       " ('properly', 0): 52,\n",
       " ('follow', 0): 294,\n",
       " ('mean', 0): 720,\n",
       " ('sound', 0): 718,\n",
       " ('pompous', 0): 15,\n",
       " ('cut', 0): 388,\n",
       " ('seagal', 0): 15,\n",
       " ('chan', 0): 81,\n",
       " ('van', 0): 145,\n",
       " ('damme', 0): 26,\n",
       " ('genre', 0): 509,\n",
       " ('type', 0): 544,\n",
       " ('would', 0): 4250,\n",
       " ('cerebral', 0): 34,\n",
       " ('prepared', 0): 76,\n",
       " ('hour', 0): 599,\n",
       " ('mental', 0): 115,\n",
       " ('bender', 0): 7,\n",
       " ('thought', 0): 1353,\n",
       " ('afterwardsbr', 0): 5,\n",
       " ('comparing', 0): 47,\n",
       " ('regard', 0): 114,\n",
       " ('soundtrack', 0): 414,\n",
       " ('unto', 0): 13,\n",
       " ('definitely', 0): 804,\n",
       " ('due', 0): 397,\n",
       " ('longstanding', 0): 5,\n",
       " ('tie', 0): 80,\n",
       " ('know', 0): 2597,\n",
       " ('heart', 0): 680,\n",
       " ('star', 0): 1316,\n",
       " ('nancy', 0): 86,\n",
       " ('wilson', 0): 101,\n",
       " ('worthy', 0): 116,\n",
       " ('note', 0): 370,\n",
       " ('definite', 0): 66,\n",
       " ('chemistry', 0): 184,\n",
       " ('tom', 0): 319,\n",
       " ('cruise', 0): 37,\n",
       " ('directing', 0): 217,\n",
       " ('made', 0): 2834,\n",
       " ('seem', 0): 748,\n",
       " ('familiar', 0): 259,\n",
       " ('mind', 0): 850,\n",
       " ('bad', 0): 1431,\n",
       " ('thingbr', 0): 29,\n",
       " ('compare', 0): 151,\n",
       " ('david', 0): 485,\n",
       " ('finchers', 0): 1,\n",
       " ('game', 0): 791,\n",
       " ('certainly', 0): 684,\n",
       " ('cambridge', 0): 4,\n",
       " ('simon', 0): 99,\n",
       " ('heffer', 0): 1,\n",
       " ('writer', 0): 430,\n",
       " ('journalist', 0): 51,\n",
       " ('put', 0): 1100,\n",
       " ('theory', 0): 78,\n",
       " ('british', 0): 396,\n",
       " ('filmmaker', 0): 293,\n",
       " ('often', 0): 770,\n",
       " ('critical', 0): 77,\n",
       " ('called', 0): 432,\n",
       " ('thatcher', 0): 4,\n",
       " ('britain', 0): 68,\n",
       " ('ealing', 0): 22,\n",
       " ('comedy', 0): 1502,\n",
       " ('intended', 0): 136,\n",
       " ('satire', 0): 130,\n",
       " ('attlee', 0): 2,\n",
       " ('labour', 0): 8,\n",
       " ('victory', 0): 43,\n",
       " ('1945', 0): 48,\n",
       " ('general', 0): 293,\n",
       " ('election', 0): 37,\n",
       " ('presumably', 0): 30,\n",
       " ('apply', 0): 17,\n",
       " ('coronet', 0): 3,\n",
       " ('edwardian', 0): 5,\n",
       " ('upper', 0): 46,\n",
       " ('ladykillers', 0): 1,\n",
       " ('lavender', 0): 4,\n",
       " ('hill', 0): 122,\n",
       " ('mob', 0): 87,\n",
       " ('contain', 0): 43,\n",
       " ('political', 0): 293,\n",
       " ('nature', 0): 319,\n",
       " ('however', 0): 1375,\n",
       " ('applied', 0): 23,\n",
       " ('series', 0): 1506,\n",
       " ('especially', 0): 1179,\n",
       " ('passport', 0): 14,\n",
       " ('pimlicobr', 0): 2,\n",
       " ('pimlico', 0): 18,\n",
       " ('forty', 0): 51,\n",
       " ('predominantly', 0): 7,\n",
       " ('workingclass', 0): 7,\n",
       " ('district', 0): 22,\n",
       " ('london', 0): 207,\n",
       " ('set', 0): 1256,\n",
       " ('north', 0): 155,\n",
       " ('bank', 0): 109,\n",
       " ('thames', 0): 5,\n",
       " ('mile', 0): 145,\n",
       " ('victoria', 0): 91,\n",
       " ('station', 0): 156,\n",
       " ('said', 0): 812,\n",
       " ('declaring', 0): 5,\n",
       " ('happens', 0): 375,\n",
       " ('ancient', 0): 103,\n",
       " ('charter', 0): 4,\n",
       " ('light', 0): 421,\n",
       " ('proving', 0): 31,\n",
       " ('fifteenth', 0): 2,\n",
       " ('century', 0): 257,\n",
       " ('area', 0): 187,\n",
       " ('ceded', 0): 2,\n",
       " ('king', 0): 389,\n",
       " ('edward', 0): 109,\n",
       " ('iv', 0): 21,\n",
       " ('duchy', 0): 2,\n",
       " ('burgundy', 0): 8,\n",
       " ('technically', 0): 65,\n",
       " ('state', 0): 335,\n",
       " ('nearly', 0): 290,\n",
       " ('five', 0): 267,\n",
       " ('hundred', 0): 109,\n",
       " ('irrespective', 0): 4,\n",
       " ('wish', 0): 439,\n",
       " ('inhabitant', 0): 32,\n",
       " ('government', 0): 211,\n",
       " ('promise', 0): 116,\n",
       " ('pas', 0): 119,\n",
       " ('special', 0): 758,\n",
       " ('parliament', 0): 13,\n",
       " ('rectify', 0): 8,\n",
       " ('anomaly', 0): 4,\n",
       " ('receives', 0): 32,\n",
       " ('royal', 0): 44,\n",
       " ('assent', 0): 1,\n",
       " ('remains', 0): 222,\n",
       " ('outside', 0): 259,\n",
       " ('united', 0): 116,\n",
       " ('kingdom', 0): 39,\n",
       " ('law', 0): 195,\n",
       " ('applybr', 0): 2,\n",
       " ('subject', 0): 386,\n",
       " ('landlord', 0): 16,\n",
       " ('local', 0): 364,\n",
       " ('pub', 0): 16,\n",
       " ('free', 0): 215,\n",
       " ('open', 0): 372,\n",
       " ('whatever', 0): 185,\n",
       " ('chooses', 0): 30,\n",
       " ('shopkeeper', 0): 6,\n",
       " ('sell', 0): 124,\n",
       " ('please', 0): 292,\n",
       " ('whomever', 0): 3,\n",
       " ('unhindered', 0): 2,\n",
       " ('rationing', 0): 5,\n",
       " ('trader', 0): 14,\n",
       " ('start', 0): 962,\n",
       " ('moving', 0): 419,\n",
       " ('street', 0): 395,\n",
       " ('authority', 0): 66,\n",
       " ('horrified', 0): 22,\n",
       " ('legalised', 0): 1,\n",
       " ('blackmarketeering', 0): 1,\n",
       " ('seal', 0): 15,\n",
       " ('try', 0): 943,\n",
       " ('force', 0): 347,\n",
       " ('burgundians', 0): 3,\n",
       " ('renamed', 0): 6,\n",
       " ('surrenderbr', 0): 1,\n",
       " ('central', 0): 172,\n",
       " ('idea', 0): 759,\n",
       " ('man', 0): 2437,\n",
       " ('taking', 0): 382,\n",
       " ('system', 0): 185,\n",
       " ('individual', 0): 205,\n",
       " ('white', 0): 499,\n",
       " ('suit', 0): 149,\n",
       " ('part', 0): 2004,\n",
       " ('larger', 0): 57,\n",
       " ('community', 0): 135,\n",
       " ('whisky', 0): 2,\n",
       " ('galore', 0): 11,\n",
       " ('titfield', 0): 1,\n",
       " ('thunderbolt', 0): 1,\n",
       " ('men', 0): 842,\n",
       " ('bureaucracy', 0): 12,\n",
       " ('governmentimposed', 0): 1,\n",
       " ('regulation', 0): 11,\n",
       " ('seemed', 0): 403,\n",
       " ('increasingly', 0): 61,\n",
       " ('important', 0): 459,\n",
       " ('feature', 0): 572,\n",
       " ('particular', 0): 338,\n",
       " ('target', 0): 83,\n",
       " ('war', 0): 1301,\n",
       " ('accepted', 0): 73,\n",
       " ('necessary', 0): 136,\n",
       " ('sacrifice', 0): 59,\n",
       " ('fight', 0): 559,\n",
       " ('nazism', 0): 3,\n",
       " ('became', 0): 284,\n",
       " ('politically', 0): 50,\n",
       " ('controversial', 0): 81,\n",
       " ('tried', 0): 192,\n",
       " ('retain', 0): 13,\n",
       " ('peacetime', 0): 1,\n",
       " ('major', 0): 377,\n",
       " ('factor', 0): 94,\n",
       " ('growing', 0): 151,\n",
       " ('unpopularity', 0): 1,\n",
       " ('administration', 0): 7,\n",
       " ('elected', 0): 19,\n",
       " ('large', 0): 222,\n",
       " ('majority', 0): 79,\n",
       " ('organisation', 0): 7,\n",
       " ('housewife', 0): 28,\n",
       " ('league', 0): 69,\n",
       " ('campaign', 0): 37,\n",
       " ('abolition', 0): 3,\n",
       " ('agree', 0): 223,\n",
       " ('reviewer', 0): 191,\n",
       " ('stated', 0): 60,\n",
       " ('main', 0): 845,\n",
       " ('spiv', 0): 3,\n",
       " ('black', 0): 796,\n",
       " ('marketeers', 0): 2,\n",
       " ('play', 0): 2059,\n",
       " ('relatively', 0): 97,\n",
       " ('minor', 0): 196,\n",
       " ('action', 0): 1361,\n",
       " ('appear', 0): 203,\n",
       " ('targeted', 0): 16,\n",
       " ('bureaucrat', 0): 9,\n",
       " ('portrayed', 0): 279,\n",
       " ('rule', 0): 168,\n",
       " ('sake', 0): 48,\n",
       " ('mentality', 0): 31,\n",
       " ('buck', 0): 77,\n",
       " ('avoid', 0): 98,\n",
       " ('allbr', 0): 58,\n",
       " ('suspect', 0): 182,\n",
       " ('remaining', 0): 47,\n",
       " ('monaco', 0): 2,\n",
       " ('san', 0): 66,\n",
       " ('marino', 0): 4,\n",
       " ('indeed', 0): 317,\n",
       " ('concept', 0): 197,\n",
       " ('serve', 0): 72,\n",
       " ('basis', 0): 68,\n",
       " ('rather', 0): 1054,\n",
       " ('1949', 0): 15,\n",
       " ('four', 0): 342,\n",
       " ('keen', 0): 35,\n",
       " ('stress', 0): 48,\n",
       " ('patriotism', 0): 17,\n",
       " ('identity', 0): 150,\n",
       " ('reabsorbed', 0): 1,\n",
       " ('bestknown', 0): 5,\n",
       " ('line', 0): 1069,\n",
       " ('always', 0): 1606,\n",
       " ('english', 0): 461,\n",
       " ('sticking', 0): 21,\n",
       " ('sharp', 0): 103,\n",
       " ('contrast', 0): 157,\n",
       " ('heartless', 0): 12,\n",
       " ('attitude', 0): 162,\n",
       " ('officialdom', 0): 2,\n",
       " ('common', 0): 204,\n",
       " ('tolerance', 0): 22,\n",
       " ('humour', 0): 208,\n",
       " ('cockney', 0): 16,\n",
       " ('presented', 0): 183,\n",
       " ('quintessentially', 0): 4,\n",
       " ('characteristicsbr', 0): 2,\n",
       " ('place', 0): 1101,\n",
       " ('summer', 0): 191,\n",
       " ('drought', 0): 6,\n",
       " ('sweltering', 0): 3,\n",
       " ('heatwave', 0): 2,\n",
       " ('last', 0): 1233,\n",
       " ('rejoined', 0): 1,\n",
       " ('uk', 0): 92,\n",
       " ('temperature', 0): 9,\n",
       " ('drop', 0): 70,\n",
       " ('pour', 0): 8,\n",
       " ('rain', 0): 94,\n",
       " ('global', 0): 28,\n",
       " ('warming', 0): 26,\n",
       " ('altered', 0): 18,\n",
       " ('slightly', 0): 219,\n",
       " ('hold', 0): 401,\n",
       " ('belief', 0): 193,\n",
       " ('statistic', 0): 7,\n",
       " ('contrary', 0): 50,\n",
       " ('abnormally', 0): 1,\n",
       " ('wet', 0): 34,\n",
       " ('climate', 0): 16,\n",
       " ('joke', 0): 395,\n",
       " ('equally', 0): 181,\n",
       " ('importantbr', 0): 4,\n",
       " ('stanley', 0): 87,\n",
       " ('holloway', 0): 11,\n",
       " ('arthur', 0): 144,\n",
       " ('pemberton', 0): 4,\n",
       " ('grocer', 0): 2,\n",
       " ('smalltime', 0): 10,\n",
       " ('politician', 0): 56,\n",
       " ('becomes', 0): 516,\n",
       " ('prime', 0): 102,\n",
       " ('minister', 0): 38,\n",
       " ('cameo', 0): 149,\n",
       " ('margaret', 0): 40,\n",
       " ('rutherford', 0): 10,\n",
       " ('batty', 0): 7,\n",
       " ('professor', 0): 98,\n",
       " ('appropriately', 0): 34,\n",
       " ('enough', 0): 1104,\n",
       " ('small', 0): 723,\n",
       " ('pulling', 0): 53,\n",
       " ('example', 0): 529,\n",
       " ('ensemble', 0): 90,\n",
       " ('everyone', 0): 905,\n",
       " ('making', 0): 874,\n",
       " ('contribution', 0): 46,\n",
       " ('excellent', 0): 1321,\n",
       " ('illwill', 0): 1,\n",
       " ('rancour', 0): 1,\n",
       " ('recent', 0): 215,\n",
       " ('satirical', 0): 30,\n",
       " ('wit', 0): 115,\n",
       " ('le', 0): 741,\n",
       " ('effective', 0): 277,\n",
       " ('funniest', 0): 181,\n",
       " ('possible', 0): 333,\n",
       " ('exception', 0): 140,\n",
       " ('personal', 0): 332,\n",
       " ('favourite', 0): 177,\n",
       " ('among', 0): 395,\n",
       " ('1010', 0): 201,\n",
       " ('witness', 0): 140,\n",
       " ('justice', 0): 186,\n",
       " ('thereof', 0): 7,\n",
       " ('truly', 0): 776,\n",
       " ('satisfying', 0): 112,\n",
       " ('werent', 0): 134,\n",
       " ('shade', 0): 34,\n",
       " ('gray', 0): 42,\n",
       " ('virtually', 0): 70,\n",
       " ('every', 0): 1581,\n",
       " ('epitomized', 0): 8,\n",
       " ('best', 0): 3385,\n",
       " ('worst', 0): 188,\n",
       " ('society', 0): 338,\n",
       " ('popularity', 0): 36,\n",
       " ('fact', 0): 1324,\n",
       " ('deal', 0): 491,\n",
       " ('scumbags', 0): 4,\n",
       " ('along', 0): 790,\n",
       " ('nambypamby', 0): 1,\n",
       " ('lilylivered', 0): 1,\n",
       " ('meleemouthed', 0): 1,\n",
       " ('empower', 0): 3,\n",
       " ('correctness', 0): 17,\n",
       " ('across', 0): 417,\n",
       " ('board', 0): 124,\n",
       " ('compelling', 0): 191,\n",
       " ('sympathized', 0): 2,\n",
       " ('rape', 0): 110,\n",
       " ('victim', 0): 265,\n",
       " ('gratifying', 0): 7,\n",
       " ('wipe', 0): 19,\n",
       " ('smug', 0): 14,\n",
       " ('vicious', 0): 40,\n",
       " ('arrogance', 0): 18,\n",
       " ('attacker', 0): 16,\n",
       " ('dyke', 0): 13,\n",
       " ('ugliest', 0): 7,\n",
       " ('ive', 0): 1256,\n",
       " ('shut', 0): 46,\n",
       " ('mouth', 0): 103,\n",
       " ('lead', 0): 806,\n",
       " ('rapist', 0): 20,\n",
       " ('psychopath', 0): 28,\n",
       " ('ugly', 0): 83,\n",
       " ('fitting', 0): 49,\n",
       " ('dirty', 0): 152,\n",
       " ('harry', 0): 166,\n",
       " ('offed', 0): 3,\n",
       " ('loud', 0): 128,\n",
       " ('grotesque', 0): 30,\n",
       " ('fashion', 0): 143,\n",
       " ('sequel', 0): 271,\n",
       " ('saga', 0): 50,\n",
       " ('equaled', 0): 2,\n",
       " ('first', 0): 3560,\n",
       " ('hope', 0): 669,\n",
       " ('involvedbr', 0): 12,\n",
       " ('classic', 0): 1017,\n",
       " ('ripe', 0): 6,\n",
       " ('adventure', 0): 359,\n",
       " ('80', 0): 352,\n",
       " ('castbr', 0): 24,\n",
       " ('group', 0): 496,\n",
       " ('jock', 0): 12,\n",
       " ('sororiety', 0): 1,\n",
       " ('debating', 0): 6,\n",
       " ('nerd', 0): 27,\n",
       " ('band', 0): 291,\n",
       " ('misfit', 0): 12,\n",
       " ('couple', 0): 687,\n",
       " ('couselorsbr', 0): 1,\n",
       " ('load', 0): 65,\n",
       " ('begging', 0): 17,\n",
       " ('morebr', 0): 50,\n",
       " ('naughton', 0): 5,\n",
       " ('adam', 0): 148,\n",
       " ('leader', 0): 160,\n",
       " ('yellow', 0): 39,\n",
       " ('team', 0): 376,\n",
       " ('hip', 0): 43,\n",
       " ('college', 0): 156,\n",
       " ('counselor', 0): 27,\n",
       " ('student', 0): 279,\n",
       " ('everything', 0): 955,\n",
       " ('getting', 0): 612,\n",
       " ('datesbr', 0): 1,\n",
       " ('nemesis', 0): 39,\n",
       " ('harold', 0): 33,\n",
       " ('blue', 0): 240,\n",
       " ('hilariously', 0): 41,\n",
       " ('furst', 0): 5,\n",
       " ('babylon', 0): 5,\n",
       " ('5', 0): 259,\n",
       " ('fame', 0): 117,\n",
       " ('loafing', 0): 1,\n",
       " ('son', 0): 598,\n",
       " ('trophy', 0): 9,\n",
       " ('hall', 0): 130,\n",
       " ('famer', 0): 1,\n",
       " ('jealousbr', 0): 1,\n",
       " ('pit', 0): 31,\n",
       " ('throw', 0): 177,\n",
       " ('red', 0): 238,\n",
       " ('green', 0): 162,\n",
       " ('unbelievable', 0): 63,\n",
       " ('observatory', 0): 1,\n",
       " ('consequence', 0): 100,\n",
       " ('cheating', 0): 46,\n",
       " ('minature', 0): 1,\n",
       " ('golf', 0): 35,\n",
       " ('super', 0): 138,\n",
       " ('tour', 0): 69,\n",
       " ('pabst', 0): 11,\n",
       " ('ribbon', 0): 11,\n",
       " ('beer', 0): 40,\n",
       " ('factory', 0): 61,\n",
       " ('hateful', 0): 13,\n",
       " ('old', 0): 1526,\n",
       " ('landlady', 0): 9,\n",
       " ('night', 0): 892,\n",
       " ('rememberbr', 0): 7,\n",
       " ('appearance', 0): 255,\n",
       " ('michael', 0): 545,\n",
       " ('j', 0): 55,\n",
       " ('fox', 0): 147,\n",
       " ('eddie', 0): 124,\n",
       " ('deezen', 0): 1,\n",
       " ('andy', 0): 111,\n",
       " ('tennant', 0): 8,\n",
       " ('acted', 0): 222,\n",
       " ('becoming', 0): 166,\n",
       " ('hilarious', 0): 517,\n",
       " ('debra', 0): 25,\n",
       " ('clingers', 0): 1,\n",
       " ('laura', 0): 90,\n",
       " ('terribly', 0): 58,\n",
       " ('overacted', 0): 6,\n",
       " ('rest', 0): 533,\n",
       " ('simply', 0): 686,\n",
       " ('ignoredbr', 0): 2,\n",
       " ('enoughbr', 0): 16,\n",
       " ('musical', 0): 555,\n",
       " ('meaning', 0): 214,\n",
       " ('appreciated', 0): 105,\n",
       " ('wise', 0): 109,\n",
       " ('wisdom', 0): 38,\n",
       " ('contained', 0): 36,\n",
       " ('call', 0): 401,\n",
       " ('follybr', 0): 1,\n",
       " ('regain', 0): 17,\n",
       " ('world', 0): 1870,\n",
       " ('consciousness', 0): 20,\n",
       " ('rise', 0): 115,\n",
       " ('land', 0): 178,\n",
       " ('living', 0): 440,\n",
       " ('room', 0): 378,\n",
       " ('grow', 0): 111,\n",
       " ('mentally', 0): 55,\n",
       " ('spiritually', 0): 13,\n",
       " ('faster', 0): 33,\n",
       " ('biological', 0): 18,\n",
       " ('agebr', 0): 18,\n",
       " ('lyric', 0): 59,\n",
       " ('recognize', 0): 99,\n",
       " ('relativity', 0): 4,\n",
       " ('spinning', 0): 14,\n",
       " ('around', 0): 1239,\n",
       " ('inside', 0): 288,\n",
       " ('truth', 0): 340,\n",
       " ('lie', 0): 237,\n",
       " ('changing', 0): 81,\n",
       " ('sensesbr', 0): 2,\n",
       " ('searching', 0): 63,\n",
       " ('video', 0): 545,\n",
       " ('share', 0): 191,\n",
       " ('joy', 0): 177,\n",
       " ('shangrila', 0): 1,\n",
       " ('burt', 0): 69,\n",
       " ('bacharachs', 0): 2,\n",
       " ('hal', 0): 84,\n",
       " ('turbulent', 0): 22,\n",
       " ('ready', 0): 131,\n",
       " ('appreciatedbr', 0): 4,\n",
       " ('cd', 0): 51,\n",
       " ('inspire', 0): 31,\n",
       " ('horizon', 0): 27,\n",
       " ('peace', 0): 97,\n",
       " ('losthorizonorg', 0): 1,\n",
       " ('peter', 0): 406,\n",
       " ('otoole', 0): 25,\n",
       " ('finest', 0): 159,\n",
       " ('actor', 0): 2362,\n",
       " ('magnificent', 0): 165,\n",
       " ('reserved', 0): 22,\n",
       " ('school', 0): 635,\n",
       " ('master', 0): 301,\n",
       " ('dedicated', 0): 54,\n",
       " ('teaching', 0): 50,\n",
       " ('young', 0): 1809,\n",
       " ('boy', 0): 886,\n",
       " ('meet', 0): 614,\n",
       " ('fall', 0): 570,\n",
       " ('devotion', 0): 28,\n",
       " ('petula', 0): 10,\n",
       " ('clark', 0): 78,\n",
       " ('spirit', 0): 279,\n",
       " ('sensitivity', 0): 26,\n",
       " ('mention', 0): 283,\n",
       " ('remarkable', 0): 164,\n",
       " ('voice', 0): 524,\n",
       " ('even', 0): 3667,\n",
       " ('happy', 0): 420,\n",
       " ('r', 0): 103,\n",
       " ('hard', 0): 901,\n",
       " ('whole', 0): 987,\n",
       " ('family', 0): 1533,\n",
       " ('clean', 0): 99,\n",
       " ('fun', 0): 1230,\n",
       " ('highly', 0): 619,\n",
       " ('recommend', 0): 834,\n",
       " ('evening', 0): 122,\n",
       " ('shattered', 0): 17,\n",
       " ('season', 0): 434,\n",
       " ('there', 0): 911,\n",
       " ('chance', 0): 498,\n",
       " ('deciding', 0): 21,\n",
       " ('cancel', 0): 13,\n",
       " ('ha', 0): 34,\n",
       " ('excited', 0): 74,\n",
       " ('jason', 0): 160,\n",
       " ('think', 0): 3062,\n",
       " ('writr', 0): 1,\n",
       " ('ten', 0): 312,\n",
       " ('post', 0): 93,\n",
       " ('comment', 0): 550,\n",
       " ...}"
      ]
     },
     "execution_count": 20,
     "metadata": {},
     "output_type": "execute_result"
    }
   ],
   "source": [
    "## Run this cell to get an idea about the corpus of words and their occurrence along with labels. \n",
    "## In this, we are computing the frequency of occurrence of word given that a review is 'positive'.\n",
    "## Similarly, we also compute the frequence of occurence of word given that a review is 'negative'.\n",
    "freqs"
   ]
  },
  {
   "cell_type": "markdown",
   "id": "759c24bc",
   "metadata": {
    "id": "759c24bc"
   },
   "source": [
    "## Q4. Training the Naive Bayes Model: (20 points)\n",
    "\n",
    "Now we are in the training phase of the Naive Bayes algorithm. In this cell, take a look at the ways to calculate the log likelihood and log prior values as these are important for testing in the next few cells. \n",
    "\n",
    "Also calculate the frequency of occurrence of words where the output is negative. In the same way, calculate the word frequency count using the above functions in order to compute the log likelihood.\n",
    "\n",
    "Return the logprior and loglikelihood output by the model from this function. "
   ]
  },
  {
   "cell_type": "code",
   "execution_count": 21,
   "id": "a7f280e3",
   "metadata": {
    "id": "a7f280e3"
   },
   "outputs": [],
   "source": [
    "from numpy.ma.core import log\n",
    "def train_naive_bayes(freqs, train_x, train_y):\n",
    "    '''\n",
    "    Input:\n",
    "        freqs: dictionary from (word, label) to how often the word appears\n",
    "        train_x: a list of reviews\n",
    "        train_y: a list of labels correponding to the reviews (0,1)\n",
    "    Output:\n",
    "        logprior: the log prior. (equation 3 above)\n",
    "        loglikelihood: the log likelihood of you Naive bayes equation. (equation 6 above)\n",
    "    '''\n",
    "    loglikelihood = {}\n",
    "    logprior = 0\n",
    "\n",
    "\n",
    "    # calculate V, the number of unique words in the vocabulary\n",
    "    vocab = []\n",
    "    for (word, label) in freqs.keys():\n",
    "        if word in vocab:\n",
    "            continue\n",
    "        else:\n",
    "            vocab.append(word)\n",
    "    \n",
    "    V = len(vocab)\n",
    "\n",
    "    # calculate num_pos and num_neg - the total number of positive and negative words for all documents\n",
    "    num_pos = 0\n",
    "    num_neg = 0\n",
    "    for (word, label) in freqs.keys():\n",
    "        # if the label is positive (greater than zero)\n",
    "        if label > 0:\n",
    "\n",
    "            # Increment the number of positive words by the count for this (word, label) pair\n",
    "            num_neg += 1\n",
    "\n",
    "        # else, the label is negative\n",
    "        else:\n",
    "\n",
    "            # increment the number of negative words by the count for this (word,label) pair\n",
    "            num_pos += 1\n",
    "\n",
    "    # Calculate num_doc, the number of documents\n",
    "    num_doc = len(train_x)\n",
    "\n",
    "    # Calculate D_pos, the number of positive documents \n",
    "    pos_num_docs = train_y.value_counts()[0]\n",
    "\n",
    "    # Calculate D_neg, the number of negative documents \n",
    "    neg_num_docs = train_y.value_counts()[1]\n",
    "\n",
    "    # Calculate logprior\n",
    "    logprior = log(neg_num_docs) - log(pos_num_docs)\n",
    "\n",
    "    # For each word in the vocabulary...\n",
    "    for word in vocab:\n",
    "        # get the positive and negative frequency of the word\n",
    "        freq_pos = 0\n",
    "        freq_neg = 0\n",
    "        if (word, 0) in freqs.keys():\n",
    "            freq_pos = freqs[(word,0)]\n",
    "        if (word, 1) in freqs.keys():\n",
    "            freq_neg = freqs[(word,1)]\n",
    "\n",
    "        # calculate the probability that each word is positive, and negative\n",
    "        p_w_pos = (1 + freq_pos)/(V + num_pos)\n",
    "        p_w_neg = (1 + freq_neg)/(V + num_neg)\n",
    "\n",
    "        # calculate the log likelihood of the word\n",
    "        loglikelihood[word] = log(p_w_neg/p_w_pos)\n",
    "\n",
    "\n",
    "    return logprior, loglikelihood"
   ]
  },
  {
   "cell_type": "code",
   "execution_count": 22,
   "id": "1561d892",
   "metadata": {
    "id": "1561d892"
   },
   "outputs": [
    {
     "name": "stdout",
     "output_type": "stream",
     "text": [
      "0.0\n",
      "92115\n"
     ]
    }
   ],
   "source": [
    "# You do not have to input any code in this cell, but it is relevant to grading, so please do not change anything\n",
    "logprior, loglikelihood = train_naive_bayes(freqs, X_train, y_train)\n",
    "print(logprior)\n",
    "print(len(loglikelihood))"
   ]
  },
  {
   "cell_type": "markdown",
   "id": "19d9c882",
   "metadata": {
    "id": "19d9c882"
   },
   "source": [
    "### Expected Output \n",
    "\n",
    "0.0 <br>\n",
    "91425"
   ]
  },
  {
   "cell_type": "markdown",
   "id": "78b51303",
   "metadata": {
    "id": "78b51303"
   },
   "source": [
    "## Q5. Implementing Naive Bayes Predict Function: (10 points)\n",
    "\n",
    "It is now time to make our prediction as to whether a given review is negative or positive respectively. \n",
    "\n",
    "After adding the log likelihood values, ensure that the output is 1 (negative) if the sum of the log likelihood value is greater than 0 and 0 (positive) if the sum of the log likelihood is less than or equal to 0. "
   ]
  },
  {
   "cell_type": "code",
   "execution_count": 23,
   "id": "b692c2f9",
   "metadata": {
    "id": "b692c2f9"
   },
   "outputs": [],
   "source": [
    "# TASK 4 CELL\n",
    "\n",
    "def naive_bayes_predict(review, logprior, loglikelihood):\n",
    "    '''\n",
    "    Params:\n",
    "        review: a string\n",
    "        logprior: a number\n",
    "        loglikelihood: a dictionary of words mapping to numbers\n",
    "    Return:\n",
    "        total_prob: the sum of all the loglikelihoods of each word in the review (if found in the dictionary) + logprior (a number)\n",
    "\n",
    "    '''\n",
    "    \n",
    "      # process the review to get a list of words\n",
    "    word_l = clean_review(review)\n",
    "\n",
    "    # initialize probability to zero\n",
    "    total_prob = 0\n",
    "\n",
    "    # add the logprior\n",
    "    total_prob += logprior\n",
    "\n",
    "\n",
    "    for word in word_l:\n",
    "\n",
    "        # check if the word exists in the loglikelihood dictionary\n",
    "        if word in loglikelihood.keys():\n",
    "            # add the log likelihood of that word to the probability\n",
    "            total_prob += loglikelihood[word]\n",
    "\n",
    "\n",
    "    #print(total_prob)\n",
    "    if total_prob > 0:\n",
    "        return 1\n",
    "    else:\n",
    "        return 0"
   ]
  },
  {
   "cell_type": "code",
   "execution_count": 24,
   "id": "4b170333",
   "metadata": {
    "colab": {
     "base_uri": "https://localhost:8080/"
    },
    "id": "4b170333",
    "outputId": "0cf6bc90-90e8-4dee-bf95-7eaf39dce147"
   },
   "outputs": [
    {
     "name": "stdout",
     "output_type": "stream",
     "text": [
      "The expected output is 1\n"
     ]
    }
   ],
   "source": [
    "# You do not have to input any code in this cell, but it is relevant to grading, so please do not change anything\n",
    "\n",
    "# Experiment with your own review.\n",
    "my_review = \"I thought this series was going to be another fun, action series with some dynamic plots and great performances. I was wrong. While I like Jamie Denton, this show is hardly worth watching at all, unless you enjoy watching some people brutalized and the actions of the agents supposedly warranted under the theme of national security. The show is great propaganda for the current government, and spews out jingoism as though we talk that way every day. After a couple of episodes, it was boring the hell out of me, and I started watching reruns of House Invaders on BBCAmerica instead. Rather watch CSI and Without a Trace, without a doubt.\"\n",
    "p = naive_bayes_predict(my_review, logprior, loglikelihood)\n",
    "print('The expected output is', p)"
   ]
  },
  {
   "cell_type": "markdown",
   "id": "6242708f",
   "metadata": {
    "id": "6242708f"
   },
   "source": [
    "### Expected Output :\n",
    "The expected output is 1"
   ]
  },
  {
   "cell_type": "markdown",
   "id": "7c4eeb71",
   "metadata": {
    "id": "7c4eeb71"
   },
   "source": [
    "## Q6. Implementing Naive Bayes Test function: (10 points)\n",
    "\n",
    "In this function, implement the previous functions such as naive_bayes_predict to get the predictions for the test set. \n",
    "\n",
    "In addition to this, the function should return the total number of reviews that it correctly classified as 'positive' or 'negative'. "
   ]
  },
  {
   "cell_type": "code",
   "execution_count": 25,
   "id": "66a511e7",
   "metadata": {
    "id": "66a511e7"
   },
   "outputs": [],
   "source": [
    "# UNQ_C6 (UNIQUE CELL IDENTIFIER, DO NOT EDIT)\n",
    "def test_naive_bayes(test_x, test_y, logprior, loglikelihood):\n",
    "    \"\"\"\n",
    "    Input:\n",
    "        test_x: A list of reviews\n",
    "        test_y: the corresponding labels for the list of reviews\n",
    "        logprior: the logprior\n",
    "        loglikelihood: a dictionary with the loglikelihoods for each word\n",
    "    Output:\n",
    "        accuracy: (# of reviews classified correctly)/(total # of reviews)\n",
    "    \"\"\"\n",
    "    accuracy = 0  \n",
    "\n",
    "    \n",
    "    y_hats = []\n",
    "    for review in test_x:\n",
    "        # if the prediction is > 0\n",
    "        if naive_bayes_predict(review, logprior, loglikelihood) > 0:\n",
    "            # the predicted class is 1\n",
    "            y_hat_i = 1\n",
    "        else:\n",
    "            # otherwise the predicted class is 0\n",
    "            y_hat_i = 0\n",
    "\n",
    "        # append the predicted class to the list y_hats\n",
    "        y_hats.append(y_hat_i)\n",
    "\n",
    "    # error is the average of the absolute values of the differences between y_hats and test_y\n",
    "    n = len(test_y)\n",
    "    i = 0\n",
    "    error_sum = 0\n",
    "    accurate_count = 0\n",
    "    while i < n:\n",
    "        error_i = abs(y_hats[i] - test_y.iloc[i])\n",
    "        error_sum += error_i\n",
    "        if error_i == 0:\n",
    "            accurate_count += 1\n",
    "        i += 1\n",
    "\n",
    "    error = error_sum / n\n",
    "    accuracy = accurate_count / n\n",
    "\n",
    "\n",
    "    return accuracy, error, y_hats"
   ]
  },
  {
   "cell_type": "code",
   "execution_count": 26,
   "id": "8a9c5d9d",
   "metadata": {
    "id": "8a9c5d9d"
   },
   "outputs": [
    {
     "name": "stdout",
     "output_type": "stream",
     "text": [
      "If you like original gut wrenching laughter you will like this movie. If you are young or old then y -> 1.00\n",
      "What a waste of talent. A very poor, semi-coherent, script cripples this film. Rather unimaginative  -> 1.00\n",
      "I have seen this film at least 100 times and I am still excited by it, the acting is perfect and the -> 0.00\n",
      "Cheap, amateurish, unimaginative, exploitative... but don't think it'll have redeeming amusement val -> 1.00\n"
     ]
    }
   ],
   "source": [
    "# For grading purpose only\n",
    "# You do not have to input any code in this cell, but it is relevant to grading, so please do not change anything\n",
    "\n",
    "# Run this cell to test your function\n",
    "\n",
    "for review in [\"If you like original gut wrenching laughter you will like this movie. If you are young or old then you will love this movie, hell even my mom liked it.<br /><br />Great Camp!!!\",\n",
    "                \"What a waste of talent. A very poor, semi-coherent, script cripples this film. Rather unimaginative direction, too. Some VERY faint echoes of Fargo here, but it just doesn't come off.\",\n",
    "                \"I have seen this film at least 100 times and I am still excited by it, the acting is perfect and the romance between Joe and Jean keeps me on the edge of my seat, plus I still think Bryan Brown is the tops. Brilliant Film.\",\n",
    "                \"Cheap, amateurish, unimaginative, exploitative... but don't think it'll have redeeming amusement value. About as unentertaining, uninstructive and just plain dull as a film can be.\"]:\n",
    "    p = naive_bayes_predict(review, logprior, loglikelihood)\n",
    "    print(f'{review[:100]} -> {p:.2f}')\n",
    "    "
   ]
  },
  {
   "cell_type": "markdown",
   "id": "43e2ef98",
   "metadata": {
    "id": "43e2ef98"
   },
   "source": [
    "### Expected Output :\n",
    "\n",
    "If you like original gut wrenching laughter you will like this movie. If you are young or old then y -> 0.00 <br>\n",
    "What a waste of talent. A very poor, semi-coherent, script cripples this film. Rather unimaginative  -> 1.00<br>\n",
    "I have seen this film at least 100 times and I am still excited by it, the acting is perfect and the -> 0.00 <br>\n",
    "Cheap, amateurish, unimaginative, exploitative... but don't think it'll have redeeming amusement val -> 1.00\n",
    "\n"
   ]
  },
  {
   "cell_type": "code",
   "execution_count": 27,
   "id": "216fa97a",
   "metadata": {
    "colab": {
     "base_uri": "https://localhost:8080/"
    },
    "id": "216fa97a",
    "outputId": "9d1f21c7-b324-43c2-e841-269c0306cbb4"
   },
   "outputs": [
    {
     "data": {
      "text/plain": [
       "1"
      ]
     },
     "execution_count": 27,
     "metadata": {},
     "output_type": "execute_result"
    }
   ],
   "source": [
    "# Feel free to check the sentiment of your own review below\n",
    "my_review = 'The moview was very boring, I wanted to leave in the middle'\n",
    "naive_bayes_predict(my_review, logprior, loglikelihood)"
   ]
  },
  {
   "cell_type": "markdown",
   "id": "8a45e4f0",
   "metadata": {
    "id": "8a45e4f0"
   },
   "source": [
    "### Expected Output :\n",
    "1"
   ]
  },
  {
   "cell_type": "markdown",
   "id": "mAIkM4aCC1H7",
   "metadata": {
    "id": "mAIkM4aCC1H7"
   },
   "source": [
    "# Q7. Evaluate the accuracy (10 Points)\n",
    "1. Split your data into training and test sets using random selection. Set the seed as parameter of the function so that user can select a different training and test set by changin seed.\n",
    "\n",
    "2. Calculate model paramters with training set.\n",
    "\n",
    "3. Print confusion matrix for training and test set.\n",
    "\n",
    "4. Examine False Positive and False Negative cases and provide reasoning why they get misclassified."
   ]
  },
  {
   "cell_type": "markdown",
   "id": "4167d518",
   "metadata": {},
   "source": [
    "## 7.1 Splitting Data into Training and Test Set"
   ]
  },
  {
   "cell_type": "code",
   "execution_count": 28,
   "id": "0ea2d6b7",
   "metadata": {},
   "outputs": [
    {
     "name": "stdout",
     "output_type": "stream",
     "text": [
      "Enter seed value: 400\n"
     ]
    }
   ],
   "source": [
    "custom_seed = int(input(\"Enter seed value: \")) ## User to enter seed value\n",
    "\n",
    "## Get the upsampled dataframe in a random order where randomness is determined by custom_seed\n",
    "df_upsampled_random = df_upsampled.sample(frac=1, random_state=custom_seed) \n",
    "\n",
    "## Setting an index range so that we will consider 70% of total number of positive reviews and 70% of total number of negative reviews as training set\n",
    "index_range = int(0.7 * 12474) \n",
    "\n",
    "## New Negative and Positive Training Sets\n",
    "negative_train_new = df_upsampled_random.loc[df_upsampled_random['sentiment'] == \"negative\"].iloc[:index_range]\n",
    "positive_train_new = df_upsampled_random.loc[df_upsampled_random['sentiment'] == \"positive\"].iloc[:index_range]\n",
    "\n",
    "## New Negative and Positive Test Sets\n",
    "negative_test_new = df_upsampled_random.loc[df_upsampled_random['sentiment'] == \"negative\"].iloc[index_range:]\n",
    "positive_test_new = df_upsampled_random.loc[df_upsampled_random['sentiment'] == \"positive\"].iloc[index_range:]\n",
    "\n",
    "## Find X_train, y_train, X_test, and y_test\n",
    "X_train = pd.concat([positive_train_new.review, negative_train_new.review])\n",
    "X_test = pd.concat([positive_test_new.review, negative_test_new.review])\n",
    "y_train = pd.concat([positive_train_new.sentiment, negative_train_new.sentiment])\n",
    "y_test = pd.concat([positive_test_new.sentiment, negative_test_new.sentiment])"
   ]
  },
  {
   "cell_type": "code",
   "execution_count": 29,
   "id": "1f7cd702",
   "metadata": {},
   "outputs": [],
   "source": [
    "## Replace the label in the form of string to an integer\n",
    "output_map = {'positive': 0, 'negative': 1}\n",
    "y_train = y_train.map(output_map)\n",
    "y_test = y_test.map(output_map)"
   ]
  },
  {
   "cell_type": "code",
   "execution_count": 30,
   "id": "91aaf372",
   "metadata": {},
   "outputs": [],
   "source": [
    "## Build frequency dictionary on new training data\n",
    "freqs = review_counter({}, X_train, y_train)"
   ]
  },
  {
   "cell_type": "markdown",
   "id": "b3177b4a",
   "metadata": {},
   "source": [
    "## 7.2 Calculate Model Parameters with Training Set"
   ]
  },
  {
   "cell_type": "code",
   "execution_count": 31,
   "id": "d289f5e9",
   "metadata": {},
   "outputs": [],
   "source": [
    "## Calculate logprior and loglikelihood from Training set\n",
    "logprior, loglikelihood = train_naive_bayes(freqs, X_train, y_train)"
   ]
  },
  {
   "cell_type": "markdown",
   "id": "2cb8a00b",
   "metadata": {},
   "source": [
    "## 7.3 Confusion Matrix for Training and Test Sets"
   ]
  },
  {
   "cell_type": "code",
   "execution_count": 32,
   "id": "f2c43574",
   "metadata": {},
   "outputs": [],
   "source": [
    "from sklearn.metrics import confusion_matrix, classification_report, ConfusionMatrixDisplay"
   ]
  },
  {
   "cell_type": "code",
   "execution_count": 33,
   "id": "716f61e1",
   "metadata": {},
   "outputs": [
    {
     "name": "stdout",
     "output_type": "stream",
     "text": [
      "Training Set Accuracy is  0.8878708051769557\n",
      "The Confusion Matrix of Training Set is: \n",
      "\n"
     ]
    },
    {
     "data": {
      "text/plain": [
       "[Text(0.5, 0, 'Predicted Sentiment'), Text(0, 0.5, 'True Sentiment')]"
      ]
     },
     "execution_count": 33,
     "metadata": {},
     "output_type": "execute_result"
    },
    {
     "data": {
      "image/png": "[encoded data removed]",
      "text/plain": [
       "<Figure size 432x288 with 2 Axes>"
      ]
     },
     "metadata": {
      "needs_background": "light"
     },
     "output_type": "display_data"
    }
   ],
   "source": [
    "#Testing Naive Bayes on Training Set \n",
    "training_accuracy, training_error, training_predictions = test_naive_bayes(X_train, y_train, logprior, loglikelihood)\n",
    "print(\"Training Set Accuracy is \", training_accuracy)\n",
    "\n",
    "## Confusion Matrix of Training Set\n",
    "print(\"The Confusion Matrix of Training Set is: \\n\")\n",
    "cm_train=confusion_matrix(y_train, training_predictions)\n",
    "cmd_train = ConfusionMatrixDisplay(cm_train, display_labels = ['Positive', 'Negative'])\n",
    "cmd_train.plot()\n",
    "cmd_train.ax_.set(xlabel = 'Predicted Sentiment', ylabel='True Sentiment')"
   ]
  },
  {
   "cell_type": "code",
   "execution_count": 34,
   "id": "dc3567a3",
   "metadata": {},
   "outputs": [
    {
     "name": "stdout",
     "output_type": "stream",
     "text": [
      "Test Set Accuracy is  0.8207320331285065\n",
      "The Confusion Matrix of Test Set is: \n",
      "\n"
     ]
    },
    {
     "data": {
      "text/plain": [
       "[Text(0.5, 0, 'Predicted Sentiment'), Text(0, 0.5, 'True Sentiment')]"
      ]
     },
     "execution_count": 34,
     "metadata": {},
     "output_type": "execute_result"
    },
    {
     "data": {
      "image/png": "[encoded data removed]",
      "text/plain": [
       "<Figure size 432x288 with 2 Axes>"
      ]
     },
     "metadata": {
      "needs_background": "light"
     },
     "output_type": "display_data"
    }
   ],
   "source": [
    "#Testing Naive Bayes on Test Set\n",
    "testing_accuracy, testing_error, testing_predictions = test_naive_bayes(X_test, y_test, logprior, loglikelihood)\n",
    "print(\"Test Set Accuracy is \", testing_accuracy)\n",
    "\n",
    "## Confusion Matrix of Test Set\n",
    "print(\"The Confusion Matrix of Test Set is: \\n\")\n",
    "cm_test=confusion_matrix(y_test, testing_predictions)\n",
    "cmd_test = ConfusionMatrixDisplay(cm_test, display_labels = ['Positive', 'Negative'])\n",
    "cmd_test.plot()\n",
    "cmd_test.ax_.set(xlabel='Predicted Sentiment', ylabel = 'True Sentiment')"
   ]
  },
  {
   "cell_type": "markdown",
   "id": "56aaf63a",
   "metadata": {},
   "source": [
    "## 7.4 Examination of False Positive and False Negative Cases"
   ]
  },
  {
   "cell_type": "code",
   "execution_count": 35,
   "id": "2cc4fc06",
   "metadata": {},
   "outputs": [
    {
     "name": "stdout",
     "output_type": "stream",
     "text": [
      "Number of False Positives in Training Set:  65\n",
      "Number of False Negatives in Training Set:  1893\n"
     ]
    }
   ],
   "source": [
    "## False Positives and False Negatives in Training Set\n",
    "print(\"Number of False Positives in Training Set: \", cm_train[1][0])\n",
    "print(\"Number of False Negatives in Training Set: \", cm_train[0][1])"
   ]
  },
  {
   "cell_type": "code",
   "execution_count": 36,
   "id": "ac812cac",
   "metadata": {},
   "outputs": [
    {
     "name": "stdout",
     "output_type": "stream",
     "text": [
      "Number of False Positives in Test Set:  89\n",
      "Number of False Negatives in Test Set:  1253\n"
     ]
    }
   ],
   "source": [
    "## False Positives and False Negatives in Testing Set\n",
    "print(\"Number of False Positives in Test Set: \", cm_test[1][0])\n",
    "print(\"Number of False Negatives in Test Set: \", cm_test[0][1])"
   ]
  },
  {
   "cell_type": "markdown",
   "id": "b36b3d48",
   "metadata": {},
   "source": [
    "#### \n",
    "False Positives are the cases in which the model predicts the class as Positive when the actual class is Negative.\n",
    "\n",
    "False Negatives are the cases in which the model predicts the class as Negative when the actual class is Positive\n",
    "\n",
    "The False Positives and False Negatives can be attributed to the assumption of Naive Bayes where the features/ words are independent of each other. The model does not take into account the context in which the words are used (i.e. the same word can be used in different parts of a document and hence can carry different meanings which in turn affect the conditional probability of the word associated with a class and therefore affect the sentiment).\n",
    "\n",
    "In reality, a word can be used in different parts of a sentence which can lead to it having a different meaning in different sentences which affects the sentiment of the overall document."
   ]
  },
  {
   "cell_type": "markdown",
   "id": "XbzttYVnBo7W",
   "metadata": {
    "id": "XbzttYVnBo7W"
   },
   "source": [
    "# Q8. Modularize your calssifier (10 points)\n",
    "1. Convert your code into a python module text_classifier.py\n",
    "\n",
    "2. The user should be able to launch the application on command prompt using python test_classifier.py command. The module will automatically load the model paramters from a local file of your choice and be ready to take the input from user on command prompt. The program will preprocess user input, tokenize and predict the class.\n",
    "\n",
    "3. Your module will take the input from user and output sentiment class in an indefinite loop. The output should printout the probabilities for each input token along with the final classification decision. Program will quit if user enters X.\n"
   ]
  },
  {
   "cell_type": "code",
   "execution_count": 37,
   "id": "lKAQrnnbBnKe",
   "metadata": {
    "id": "lKAQrnnbBnKe"
   },
   "outputs": [],
   "source": [
    "## Writing logprior and loglikelihood (model parameters) to a .txt file\n",
    "model_params = open(\"model_params.txt\",\"w+\")\n",
    "model_params.write(str(logprior))\n",
    "model_params.write(\"\\n\")\n",
    "model_params.write(str(loglikelihood))\n",
    "model_params.close()\n",
    "\n",
    "## Now run test_classifier.py\n",
    "## The model_params.txt file serves as the input to the test_classifier.py program. \n",
    "## The test_classifier.py program contains the clean_review() function and the naive_bayes_predict() function.\n",
    "## When a user enters a review, the clean_review() function cleans the review.\n",
    "## Then the model parameters are taken from the model_params.txt files and passed into the naive_bayes_predict() function to classify the review.\n",
    "## Along with the movie review classfication, the log likelihood of the tokens in the review is also displayed.\n",
    "\n",
    "## Below is a sample screenshot of the output."
   ]
  },
  {
   "attachments": {
    "Modularized%20Code%20Output%20from%20Command%20Line.JPG": {
     "image/jpeg": "[encoded data removed]"
    }
   },
   "cell_type": "markdown",
   "id": "c8cb5eac",
   "metadata": {},
   "source": [
    "![Modularized%20Code%20Output%20from%20Command%20Line.JPG](attachment:Modularized%20Code%20Output%20from%20Command%20Line.JPG)"
   ]
  },
  {
   "cell_type": "markdown",
   "id": "82e6e4d1",
   "metadata": {
    "id": "82e6e4d1"
   },
   "source": [
    "# Q9. Theory Questions: (10 points)\n",
    "\n",
    "1. Why is Laplace Smoothing or Additive Smoothing required while executing Naive Bayes operations, especially for text classification? Show how not having additive smoothing leads to bad outcomes by using an example of training and the test set. (10 points)\n",
    "\n",
    "\n",
    "2. Why are logarithmic values computed instead of only probability values in the Naive Bayes algorithm? (5 points)"
   ]
  },
  {
   "attachments": {},
   "cell_type": "markdown",
   "id": "44a7f875",
   "metadata": {},
   "source": [
    "## Answer to Part 1 of Question 9\n",
    "\n",
    "We know that the conditional probability of a word belonging to a particular class is given by:\n",
    "\n",
    "$P(w_i | C_k)$ = $\\frac{count(w_i, C_k)}{\\Sigma_{w \\in V} count(w, C_k)}$ = $\\frac{\\textrm{count of word }w_i \\textrm{ in class }C_k}{\\textrm{Total count of each word across all documents having class } C_k}$\n",
    "\n",
    "where V is the Vocabulary of the corpus.\n"
   ]
  },
  {
   "attachments": {},
   "cell_type": "markdown",
   "id": "9c04699a",
   "metadata": {},
   "source": [
    "We also know that the conditional probability of a class given a document. It is as follows:\n",
    "\n",
    "$P(C_k|D) = P(w_1|C_k)\\times P(w_2|C_k)\\times P(w_3|C_k)\\times \\ldots \\times P(w_n|C_k) \\times P(C_k)$\n",
    "\n",
    "where D is the document, and there are n words in the corpus.\n",
    "\n",
    "Now, we come across a situation where the count of a specific word, given a certain class, may be zero. This will result in the conditional probability of that word associated given a class to be zero. Thereafter, it will also result in the conditional probability of that class given that document to be zero which may result in the incorrect classification of a document."
   ]
  },
  {
   "attachments": {},
   "cell_type": "markdown",
   "id": "9f37ff7c",
   "metadata": {},
   "source": [
    "To avoid this issue, we increase the count of all words belonging to that class by a value α. This is done for the numerator and also for all the terms in the denominator in the conditional probability formula of a word given a class, which now becomes:\n",
    "\n",
    "$P(w_i|C_k) = \\frac{\\alpha + count(w_i, C_k)}{\\Sigma_{w \\in V}(count(w, C_k) + \\alpha)} = \\frac{\\alpha + count(w_i, C_k)}{\\alpha |V| + \\Sigma_{w \\in V}count(w, C_k)}$\n",
    "\n",
    "As long as α is greater than zero, will will avoid the issue where the conditional probability of a word given a class is zero. This will also result in the conditional probability of the class given document to be non-zero as well. \n",
    "\n",
    "Let's look at this using an example. Consider the following review:"
   ]
  },
  {
   "cell_type": "code",
   "execution_count": 38,
   "id": "7272ab23",
   "metadata": {},
   "outputs": [
    {
     "name": "stdout",
     "output_type": "stream",
     "text": [
      "['never', 'seen', 'episode', 'original', 'avenger', 'blackman', 'rigg', 'thorson', 'would', 'appreciated', 'series', 'cast', 'best', 'sustain', 'action', 'interest', 'script', 'caught', 'comparing', 'episode', 'original', 'series', 'expectation', 'steed', 'participating', 'fight', 'scene', 'continuity', 'seemed', 'though', 'writer', 'struggling', 'keep', 'actor', 'honest', 'cant', 'blame', 'trying', 'resurrect', 'fan', 'original', 'series', 'didnt', 'work', 'evidenced', 'fact', 'lasted', 'one', 'season', 'watching', 'steed', 'labor', 'series', 'reminded', 'gen', 'macarthur', 'said', 'old', 'soldier', 'never', 'die', 'fade', 'away', 'shazam', 'okay', 'hero', 'high', 'favorite', 'kid', 'mean', 'sky', 'high2005', 'zoom2006', 'hero', 'high', 'school', 'super', 'hero', 'training', 'teenager', 'super', 'power', 'would', 'help', 'police', 'capture', 'bad', 'guy', 'time', 'would', 'get', 'embarrassing', 'situation', 'like', 'greatest', 'american', 'hero1981', 'fun', 'cartoon', 'watch', 'also', 'fun', 'live', 'action', 'stage', 'show', 'called', 'kid', 'superpower', 'hour', 'shazam', 'actor', 'voiced', 'character', 'also', 'dressed', 'character', 'show', 'rex', 'ruthlessjohn', 'berwick', 'misty', 'magicjere', 'field', 'weathermanjim', 'greenleaf', 'captain', 'californiachris', 'hensel', 'also', 'sang', 'theme', 'song', 'dirty', 'trixiemaylo', 'mccaslin', 'glorious', 'galbecky', 'perle', 'look', 'like', 'love', 'child', 'superman', 'wonder', 'woman', 'punk', 'rockjohnny', 'venocour', 'whole', 'cast', 'went', 'anything', 'came', 'joke', 'cartoon', 'fun', 'superhero', 'comedy', 'shore', 'come', 'back', 'live', 'action', 'like', 'fat', 'albert2004come', 'nirvana', 'amazing', 'theme', 'song', 'movie']\n"
     ]
    }
   ],
   "source": [
    "custom_review = \"If I had never seen an episode of the original Avengers, with Blackman, Rigg, or Thorson, I would have appreciated this series more. While the cast did its best to sustain the action and interest of the scripts, I was just caught up in comparing the episodes to the original series. There was an expectation of Steed participating more in fight scenes, and the continuity seemed as though the writers were struggling to keep up with the actors. To be honest, I can't blame them for trying to resurrect the fans from the original series, but it just didn't work, as evidenced by the fact that it lasted one season. Watching Steed labor through this series reminded me of Gen. Macarthur when he said, 'Old soldiers never die, they just fade away!' Shazam was okay, but Hero High was my favorite when I was a kid, I mean before there was Sky High(2005) and Zoom(2006), there was Hero High, a school for super hero's in training, Teenagers with super powers would help police capture bad guys, and other times they would get in embarrassing situations like The Greatest American Hero(1981). It was a fun cartoon to watch, what was also fun, was the live action stage show called The Kid Superpower Hour with Shazam. The actors who voiced the characters, also dressed has there characters in the show. Rex Ruthless(John Berwick), Misty Magic(Jere Fields), WeatherMan(Jim Greenleaf), Captain California(Chris Hensel, who also sang the theme song), Dirty Trixie(Maylo Mccaslin), Glorious Gal(Becky Perle, who looks like the love child of Superman and Wonder Woman), and Punk Rock(Johnny Venocour). The whole cast just went with anything, when it came to the jokes. The cartoon was a fun superhero comedy, I shore up it will come back in live action like Fat Albert(2004).Come as you are Nirvana is an amazing theme song for the movie.\"\n",
    "custom_review_cleaned = clean_review(custom_review)\n",
    "print(custom_review_cleaned)"
   ]
  },
  {
   "cell_type": "code",
   "execution_count": 39,
   "id": "2720c55a",
   "metadata": {},
   "outputs": [
    {
     "name": "stdout",
     "output_type": "stream",
     "text": [
      "Token:  high2005 , Class:  0 , Token Count:  1\n",
      "Token:  zoom2006 , Class:  0 , Token Count:  1\n",
      "Token:  hero1981 , Class:  0 , Token Count:  1\n",
      "Token:  ruthlessjohn , Class:  0 , Token Count:  1\n",
      "Token:  berwick , Class:  0 , Token Count:  1\n",
      "Token:  magicjere , Class:  0 , Token Count:  1\n",
      "Token:  weathermanjim , Class:  0 , Token Count:  1\n",
      "Token:  greenleaf , Class:  0 , Token Count:  1\n",
      "Token:  californiachris , Class:  0 , Token Count:  1\n",
      "Token:  hensel , Class:  0 , Token Count:  1\n",
      "Token:  trixiemaylo , Class:  0 , Token Count:  1\n",
      "Token:  mccaslin , Class:  0 , Token Count:  1\n",
      "Token:  galbecky , Class:  0 , Token Count:  1\n",
      "Token:  perle , Class:  0 , Token Count:  1\n",
      "Token:  rockjohnny , Class:  0 , Token Count:  1\n",
      "Token:  venocour , Class:  0 , Token Count:  1\n",
      "Token:  blackman , Class:  0 , Token Count:  1\n",
      "Token:  berwick , Class:  1 , Token Count:  1\n",
      "Token:  gen , Class:  1 , Token Count:  1\n",
      "Token:  greenleaf , Class:  1 , Token Count:  1\n",
      "Token:  thorson , Class:  1 , Token Count:  1\n"
     ]
    }
   ],
   "source": [
    "for (word, label) in freqs.keys():\n",
    "    if word in custom_review_cleaned:\n",
    "        if freqs[(word, label)] == 1:\n",
    "            print(\"Token: \", word, \", Class: \", label, \", Token Count: \", freqs[(word, label)])"
   ]
  },
  {
   "cell_type": "markdown",
   "id": "6af59e76",
   "metadata": {},
   "source": [
    "As it can be seen, the words above have a count of 1 with their respective sentiment (i.e. Class = 0 is Positive sentiment and Class = 1 is Negative Sentiment). \n",
    "\n",
    "These words have a count of 1 because they originally do not exist in the documents of the respective classes shown above (i.e. if the class is 0, then the word does not exist in any of the documents having class 0 and if the class is 1, then the word does not exist in any of the documents having class 1).\n",
    "\n",
    "The reason these words have a count of 1 is because of Laplace smoothing with α = 1 which prevented the conditional probability of the word given that class from becoming zero.\n",
    "\n",
    "If Laplace smoothing was not performed, then the conditional probability of each of these words given the class would be zero which in turn would result in the conditional probability of the class given this review (i.e. document) to be zero as well resulting in misclassification.\n"
   ]
  },
  {
   "attachments": {},
   "cell_type": "markdown",
   "id": "50e35050",
   "metadata": {},
   "source": [
    "## Answer to Part 2 of Question 9\n",
    "We know that the conditional probability of a class given a document is as follows:\n",
    "\n",
    "$P(C_k|D) = P(w_1|C_k)\\times P(w_2|C_k)\\times P(w_3|C_k)\\times \\ldots \\times P(w_n|C_k) \\times P(C_k)$\n",
    "\n",
    "For a corpus that contains a large number of documents and a large vocabulary size, the conditional probability of the class given a document tends to approach zero because the probabilities are small values (i.e. this is the problem of underflow)."
   ]
  },
  {
   "attachments": {},
   "cell_type": "markdown",
   "id": "7ec2ff4a",
   "metadata": {},
   "source": [
    "To avoid this problem, we apply the log function on the conditional probability of a word given a class and also apply the log function on the probability of the class itself. We then get the following formula:\n",
    "\n",
    "$log(P(C_k|D)) = log(P(w_1|C_k))+log(P(w_2|C_k))+log(P(w_3|C_k))+ \\ldots +log(P(w_n|C_k))+log(P(C_k))$\n",
    "\n",
    "Applying the log function on each individual probability term that has a small value results in an ordinary sized which improves computation speed and gives log transformed conditional probability of a class given a document."
   ]
  }
 ],
 "metadata": {
  "colab": {
   "collapsed_sections": [],
   "name": "CS6120_NLP_Assignment_1_Notebook.ipynb",
   "provenance": [],
   "toc_visible": true
  },
  "kernelspec": {
   "display_name": "Python 3 (ipykernel)",
   "language": "python",
   "name": "python3"
  },
  "language_info": {
   "codemirror_mode": {
    "name": "ipython",
    "version": 3
   },
   "file_extension": ".py",
   "mimetype": "text/x-python",
   "name": "python",
   "nbconvert_exporter": "python",
   "pygments_lexer": "ipython3",
   "version": "3.9.13"
  }
 },
 "nbformat": 4,
 "nbformat_minor": 5
}
